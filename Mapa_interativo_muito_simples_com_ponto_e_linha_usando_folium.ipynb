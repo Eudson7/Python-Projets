{
  "nbformat": 4,
  "nbformat_minor": 0,
  "metadata": {
    "colab": {
      "name": "Mapa interativo muito simples com ponto e linha usando folium.ipynb",
      "provenance": [],
      "collapsed_sections": [],
      "authorship_tag": "ABX9TyN5FQSQXtPkDqmJIrorl4Zh",
      "include_colab_link": true
    },
    "kernelspec": {
      "name": "python3",
      "display_name": "Python 3"
    },
    "language_info": {
      "name": "python"
    }
  },
  "cells": [
    {
      "cell_type": "markdown",
      "metadata": {
        "id": "view-in-github",
        "colab_type": "text"
      },
      "source": [
        "<a href=\"https://colab.research.google.com/github/Eudson7/Python-Projets/blob/main/Mapa_interativo_muito_simples_com_ponto_e_linha_usando_folium.ipynb\" target=\"_parent\"><img src=\"https://colab.research.google.com/assets/colab-badge.svg\" alt=\"Open In Colab\"/></a>"
      ]
    },
    {
      "cell_type": "markdown",
      "source": [
        "# Mapa interativo muito simples usando folium"
      ],
      "metadata": {
        "id": "-8ZjYawDe8LM"
      }
    },
    {
      "cell_type": "markdown",
      "source": [
        "Uma simples abordagem para criação de mapa interativo usando apenas biblioteca Folium e nada mais.\n",
        "\n",
        "Segue local da documentação da biblioteca folium: https://python-visualization.github.io/folium/"
      ],
      "metadata": {
        "id": "O2zgACChVcNJ"
      }
    },
    {
      "cell_type": "markdown",
      "source": [
        "Primeiro deve-se instalar a biblioteca Folium"
      ],
      "metadata": {
        "id": "kLZK2-FWUiJL"
      }
    },
    {
      "cell_type": "code",
      "metadata": {
        "id": "NbgXqo2jcrms"
      },
      "source": [
        "!pip install folium"
      ],
      "execution_count": null,
      "outputs": []
    },
    {
      "cell_type": "markdown",
      "source": [
        "Após instalação, importar a biblioteca"
      ],
      "metadata": {
        "id": "Ti2mnbsUarxR"
      }
    },
    {
      "cell_type": "code",
      "source": [
        "import folium"
      ],
      "metadata": {
        "id": "ZoNCnCeVax7v"
      },
      "execution_count": 27,
      "outputs": []
    },
    {
      "cell_type": "markdown",
      "source": [
        "Abaixo criei uma lista de coordenadas de seis pontos da pista corrida do parque Rangedor que fica em São luis-MA (BR)."
      ],
      "metadata": {
        "id": "w6JBeuBha4HQ"
      }
    },
    {
      "cell_type": "code",
      "source": [
        "# criar lista de pontos em coordenadas latitude e longitude\n",
        "pontos = [[-2.493696, -44.263902],[-2.494768, -44.261961],[-2.499173, -44.262842],[-2.499068, -44.267026],[-2.498071, -44.271961],[-2.494834, -44.271929]]\n",
        "\n",
        "# visualizar lista de pontos\n",
        "pontos"
      ],
      "metadata": {
        "id": "HiuoKyZSbERT",
        "colab": {
          "base_uri": "https://localhost:8080/"
        },
        "outputId": "9e8ff2bc-94e4-4a2c-d3c1-ddf68b3e7993"
      },
      "execution_count": 23,
      "outputs": [
        {
          "output_type": "execute_result",
          "data": {
            "text/plain": [
              "[[-2.493696, -44.263902],\n",
              " [-2.494768, -44.261961],\n",
              " [-2.499173, -44.262842],\n",
              " [-2.499068, -44.267026],\n",
              " [-2.498071, -44.271961],\n",
              " [-2.494834, -44.271929]]"
            ]
          },
          "metadata": {},
          "execution_count": 23
        }
      ]
    },
    {
      "cell_type": "markdown",
      "source": [
        "Para poder criar (plotar) o mapa, é necessario informar as coordenadas de localização (centroid) e o nível de zoom. \n",
        "\n",
        "Portanto vou calcular a média das coordenadas para encontrar um centroid aproximado, o objetivo é ter uma referencia do local do mapa, não é necessario precisão. Um cálculo simples sem usar outras bibliotecas para encontar o centroid dos pontos."
      ],
      "metadata": {
        "id": "AhgfJxW5bGxk"
      }
    },
    {
      "cell_type": "code",
      "source": [
        "# centro das coordenadas (calculo simples, valor aproximado)\n",
        "l = len(pontos)\n",
        "l1=0\n",
        "l2=0\n",
        "for index,r in enumerate(pontos):\n",
        "    l1 = (pontos[index][0]+l1)\n",
        "    l2 = (pontos[index][1]+l2)\n",
        "centro = [l1/l,l2/l]\n",
        "del l1, l2\n",
        "\n",
        "# visualizar centro\n",
        "centro"
      ],
      "metadata": {
        "id": "I0WfCiBtbkI8",
        "colab": {
          "base_uri": "https://localhost:8080/"
        },
        "outputId": "7aaf5b64-d72c-4388-b52d-e44d1e628661"
      },
      "execution_count": 29,
      "outputs": [
        {
          "output_type": "execute_result",
          "data": {
            "text/plain": [
              "[-2.496601666666667, -44.266603499999995]"
            ]
          },
          "metadata": {},
          "execution_count": 29
        }
      ]
    },
    {
      "cell_type": "markdown",
      "source": [
        "Agora temos nossa lista de coordenadas e o centro das coordendas que será nossa localização central do nosso mapa. Tudo certo, vamos criar o mapa!"
      ],
      "metadata": {
        "id": "-7_Sn9M0dBU0"
      }
    },
    {
      "cell_type": "markdown",
      "source": [
        "Então abaixo na sequencia faremos 3 etapas juntas:\n",
        "\n",
        "1 - criar o nosso mapa \"m\" informando a localização usando o \"centro\" dos pontos e com nivel de zoom 15.\n",
        "\n",
        "2 - inserir os pontos (marcadores - maker) usando laço \"for\". Incluindo um Popup para cada marcador.\n",
        "\n",
        "3 - inserir as linhas basedas na ordem da lista de coordenadas e com a cor vermelha (red)"
      ],
      "metadata": {
        "id": "p0WU3URacJ2k"
      }
    },
    {
      "cell_type": "code",
      "metadata": {
        "colab": {
          "base_uri": "https://localhost:8080/",
          "height": 421
        },
        "id": "w8vQquS4cZWS",
        "outputId": "242a4f76-a327-4e80-8a97-1c27ed2d6a84"
      },
      "source": [
        "# 1 criar mapa, indicar centro e o nivel de zoom\n",
        "f = folium.Figure(width=800, height=400) # definindo tamanho de visualiação do mapa do mapa\n",
        "m = folium.Map(location=centro, zoom_start=15).add_to(f) # criar mapa e adicionar o tamanho de visualiação\n",
        "\n",
        "# caso queira o mapa no tamanho padrão de tela cheia, basta comentar os dois de cima e descomentar o debaixo desse texto.\n",
        "#m = folium.Map(location=centro, zoom_start=15) #tamanho padrão\n",
        "\n",
        "# 2 inserir pontos (maker)\n",
        "for index,r in enumerate(pontos):\n",
        "    folium.Marker(pontos[index],\n",
        "                  icon = folium.Icon(color='green',icon='home'),\n",
        "                  popup=('Ponto{} da lista'.format(index))                  \n",
        "                  ).add_to(m)\n",
        "\n",
        "# 3 inserir linhas\n",
        "folium.PolyLine(pontos, color='red').add_to(m)\n",
        "\n",
        "# visualizar mapa\n",
        "m"
      ],
      "execution_count": 28,
      "outputs": [
        {
          "output_type": "execute_result",
          "data": {
            "text/html": [
              "<iframe src=\"about:blank\" width=\"800\" height=\"400\"style=\"border:none !important;\" data-html=%3C%21DOCTYPE%20html%3E%0A%3Chead%3E%20%20%20%20%0A%20%20%20%20%3Cmeta%20http-equiv%3D%22content-type%22%20content%3D%22text/html%3B%20charset%3DUTF-8%22%20/%3E%0A%20%20%20%20%3Cscript%3EL_PREFER_CANVAS%3Dfalse%3B%20L_NO_TOUCH%3Dfalse%3B%20L_DISABLE_3D%3Dfalse%3B%3C/script%3E%0A%20%20%20%20%3Cscript%20src%3D%22https%3A//cdn.jsdelivr.net/npm/leaflet%401.4.0/dist/leaflet.js%22%3E%3C/script%3E%0A%20%20%20%20%3Cscript%20src%3D%22https%3A//code.jquery.com/jquery-1.12.4.min.js%22%3E%3C/script%3E%0A%20%20%20%20%3Cscript%20src%3D%22https%3A//maxcdn.bootstrapcdn.com/bootstrap/3.2.0/js/bootstrap.min.js%22%3E%3C/script%3E%0A%20%20%20%20%3Cscript%20src%3D%22https%3A//cdnjs.cloudflare.com/ajax/libs/Leaflet.awesome-markers/2.0.2/leaflet.awesome-markers.js%22%3E%3C/script%3E%0A%20%20%20%20%3Clink%20rel%3D%22stylesheet%22%20href%3D%22https%3A//cdn.jsdelivr.net/npm/leaflet%401.4.0/dist/leaflet.css%22/%3E%0A%20%20%20%20%3Clink%20rel%3D%22stylesheet%22%20href%3D%22https%3A//maxcdn.bootstrapcdn.com/bootstrap/3.2.0/css/bootstrap.min.css%22/%3E%0A%20%20%20%20%3Clink%20rel%3D%22stylesheet%22%20href%3D%22https%3A//maxcdn.bootstrapcdn.com/bootstrap/3.2.0/css/bootstrap-theme.min.css%22/%3E%0A%20%20%20%20%3Clink%20rel%3D%22stylesheet%22%20href%3D%22https%3A//maxcdn.bootstrapcdn.com/font-awesome/4.6.3/css/font-awesome.min.css%22/%3E%0A%20%20%20%20%3Clink%20rel%3D%22stylesheet%22%20href%3D%22https%3A//cdnjs.cloudflare.com/ajax/libs/Leaflet.awesome-markers/2.0.2/leaflet.awesome-markers.css%22/%3E%0A%20%20%20%20%3Clink%20rel%3D%22stylesheet%22%20href%3D%22https%3A//rawcdn.githack.com/python-visualization/folium/master/folium/templates/leaflet.awesome.rotate.css%22/%3E%0A%20%20%20%20%3Cstyle%3Ehtml%2C%20body%20%7Bwidth%3A%20100%25%3Bheight%3A%20100%25%3Bmargin%3A%200%3Bpadding%3A%200%3B%7D%3C/style%3E%0A%20%20%20%20%3Cstyle%3E%23map%20%7Bposition%3Aabsolute%3Btop%3A0%3Bbottom%3A0%3Bright%3A0%3Bleft%3A0%3B%7D%3C/style%3E%0A%20%20%20%20%0A%20%20%20%20%3Cmeta%20name%3D%22viewport%22%20content%3D%22width%3Ddevice-width%2C%0A%20%20%20%20%20%20%20%20initial-scale%3D1.0%2C%20maximum-scale%3D1.0%2C%20user-scalable%3Dno%22%20/%3E%0A%20%20%20%20%3Cstyle%3E%23map_e3db1a6cffc64561b430ebd2fe80d131%20%7B%0A%20%20%20%20%20%20%20%20position%3A%20relative%3B%0A%20%20%20%20%20%20%20%20width%3A%20100.0%25%3B%0A%20%20%20%20%20%20%20%20height%3A%20100.0%25%3B%0A%20%20%20%20%20%20%20%20left%3A%200.0%25%3B%0A%20%20%20%20%20%20%20%20top%3A%200.0%25%3B%0A%20%20%20%20%20%20%20%20%7D%0A%20%20%20%20%3C/style%3E%0A%3C/head%3E%0A%3Cbody%3E%20%20%20%20%0A%20%20%20%20%0A%20%20%20%20%3Cdiv%20class%3D%22folium-map%22%20id%3D%22map_e3db1a6cffc64561b430ebd2fe80d131%22%20%3E%3C/div%3E%0A%3C/body%3E%0A%3Cscript%3E%20%20%20%20%0A%20%20%20%20%0A%20%20%20%20%0A%20%20%20%20%20%20%20%20var%20bounds%20%3D%20null%3B%0A%20%20%20%20%0A%0A%20%20%20%20var%20map_e3db1a6cffc64561b430ebd2fe80d131%20%3D%20L.map%28%0A%20%20%20%20%20%20%20%20%27map_e3db1a6cffc64561b430ebd2fe80d131%27%2C%20%7B%0A%20%20%20%20%20%20%20%20center%3A%20%5B-2.496601666666667%2C%20-44.266603499999995%5D%2C%0A%20%20%20%20%20%20%20%20zoom%3A%2015%2C%0A%20%20%20%20%20%20%20%20maxBounds%3A%20bounds%2C%0A%20%20%20%20%20%20%20%20layers%3A%20%5B%5D%2C%0A%20%20%20%20%20%20%20%20worldCopyJump%3A%20false%2C%0A%20%20%20%20%20%20%20%20crs%3A%20L.CRS.EPSG3857%2C%0A%20%20%20%20%20%20%20%20zoomControl%3A%20true%2C%0A%20%20%20%20%20%20%20%20%7D%29%3B%0A%0A%0A%20%20%20%20%0A%20%20%20%20var%20tile_layer_1b9c2caf7da346aa80a14f4f0a2d267b%20%3D%20L.tileLayer%28%0A%20%20%20%20%20%20%20%20%27https%3A//%7Bs%7D.tile.openstreetmap.org/%7Bz%7D/%7Bx%7D/%7By%7D.png%27%2C%0A%20%20%20%20%20%20%20%20%7B%0A%20%20%20%20%20%20%20%20%22attribution%22%3A%20null%2C%0A%20%20%20%20%20%20%20%20%22detectRetina%22%3A%20false%2C%0A%20%20%20%20%20%20%20%20%22maxNativeZoom%22%3A%2018%2C%0A%20%20%20%20%20%20%20%20%22maxZoom%22%3A%2018%2C%0A%20%20%20%20%20%20%20%20%22minZoom%22%3A%200%2C%0A%20%20%20%20%20%20%20%20%22noWrap%22%3A%20false%2C%0A%20%20%20%20%20%20%20%20%22opacity%22%3A%201%2C%0A%20%20%20%20%20%20%20%20%22subdomains%22%3A%20%22abc%22%2C%0A%20%20%20%20%20%20%20%20%22tms%22%3A%20false%0A%7D%29.addTo%28map_e3db1a6cffc64561b430ebd2fe80d131%29%3B%0A%20%20%20%20%0A%20%20%20%20%20%20%20%20var%20marker_66943b45fde4441f987c56307bc43ecd%20%3D%20L.marker%28%0A%20%20%20%20%20%20%20%20%20%20%20%20%5B-2.493696%2C%20-44.263902%5D%2C%0A%20%20%20%20%20%20%20%20%20%20%20%20%7B%0A%20%20%20%20%20%20%20%20%20%20%20%20%20%20%20%20icon%3A%20new%20L.Icon.Default%28%29%2C%0A%20%20%20%20%20%20%20%20%20%20%20%20%20%20%20%20%7D%0A%20%20%20%20%20%20%20%20%20%20%20%20%29.addTo%28map_e3db1a6cffc64561b430ebd2fe80d131%29%3B%0A%20%20%20%20%20%20%20%20%0A%20%20%20%20%0A%0A%20%20%20%20%20%20%20%20%20%20%20%20%20%20%20%20var%20icon_7611c6ccddc24c6d9bef3f153a45b06a%20%3D%20L.AwesomeMarkers.icon%28%7B%0A%20%20%20%20%20%20%20%20%20%20%20%20%20%20%20%20%20%20%20%20icon%3A%20%27home%27%2C%0A%20%20%20%20%20%20%20%20%20%20%20%20%20%20%20%20%20%20%20%20iconColor%3A%20%27white%27%2C%0A%20%20%20%20%20%20%20%20%20%20%20%20%20%20%20%20%20%20%20%20markerColor%3A%20%27green%27%2C%0A%20%20%20%20%20%20%20%20%20%20%20%20%20%20%20%20%20%20%20%20prefix%3A%20%27glyphicon%27%2C%0A%20%20%20%20%20%20%20%20%20%20%20%20%20%20%20%20%20%20%20%20extraClasses%3A%20%27fa-rotate-0%27%0A%20%20%20%20%20%20%20%20%20%20%20%20%20%20%20%20%20%20%20%20%7D%29%3B%0A%20%20%20%20%20%20%20%20%20%20%20%20%20%20%20%20marker_66943b45fde4441f987c56307bc43ecd.setIcon%28icon_7611c6ccddc24c6d9bef3f153a45b06a%29%3B%0A%20%20%20%20%20%20%20%20%20%20%20%20%0A%20%20%20%20%0A%20%20%20%20%20%20%20%20%20%20%20%20var%20popup_2e4570e71bfc4190abb5b0f05fc706ec%20%3D%20L.popup%28%7BmaxWidth%3A%20%27100%25%27%0A%20%20%20%20%20%20%20%20%20%20%20%20%0A%20%20%20%20%20%20%20%20%20%20%20%20%7D%29%3B%0A%0A%20%20%20%20%20%20%20%20%20%20%20%20%0A%20%20%20%20%20%20%20%20%20%20%20%20%20%20%20%20var%20html_12dfed684aac4db2884dfb5905303903%20%3D%20%24%28%60%3Cdiv%20id%3D%22html_12dfed684aac4db2884dfb5905303903%22%20style%3D%22width%3A%20100.0%25%3B%20height%3A%20100.0%25%3B%22%3EPonto0%20da%20lista%3C/div%3E%60%29%5B0%5D%3B%0A%20%20%20%20%20%20%20%20%20%20%20%20%20%20%20%20popup_2e4570e71bfc4190abb5b0f05fc706ec.setContent%28html_12dfed684aac4db2884dfb5905303903%29%3B%0A%20%20%20%20%20%20%20%20%20%20%20%20%0A%0A%20%20%20%20%20%20%20%20%20%20%20%20marker_66943b45fde4441f987c56307bc43ecd.bindPopup%28popup_2e4570e71bfc4190abb5b0f05fc706ec%29%0A%20%20%20%20%20%20%20%20%20%20%20%20%3B%0A%0A%20%20%20%20%20%20%20%20%20%20%20%20%0A%20%20%20%20%20%20%20%20%0A%20%20%20%20%0A%20%20%20%20%20%20%20%20var%20marker_34b19f2418764452b35d437f2669f938%20%3D%20L.marker%28%0A%20%20%20%20%20%20%20%20%20%20%20%20%5B-2.494768%2C%20-44.261961%5D%2C%0A%20%20%20%20%20%20%20%20%20%20%20%20%7B%0A%20%20%20%20%20%20%20%20%20%20%20%20%20%20%20%20icon%3A%20new%20L.Icon.Default%28%29%2C%0A%20%20%20%20%20%20%20%20%20%20%20%20%20%20%20%20%7D%0A%20%20%20%20%20%20%20%20%20%20%20%20%29.addTo%28map_e3db1a6cffc64561b430ebd2fe80d131%29%3B%0A%20%20%20%20%20%20%20%20%0A%20%20%20%20%0A%0A%20%20%20%20%20%20%20%20%20%20%20%20%20%20%20%20var%20icon_8c543d515ec34bbfa6f57b981327dd36%20%3D%20L.AwesomeMarkers.icon%28%7B%0A%20%20%20%20%20%20%20%20%20%20%20%20%20%20%20%20%20%20%20%20icon%3A%20%27home%27%2C%0A%20%20%20%20%20%20%20%20%20%20%20%20%20%20%20%20%20%20%20%20iconColor%3A%20%27white%27%2C%0A%20%20%20%20%20%20%20%20%20%20%20%20%20%20%20%20%20%20%20%20markerColor%3A%20%27green%27%2C%0A%20%20%20%20%20%20%20%20%20%20%20%20%20%20%20%20%20%20%20%20prefix%3A%20%27glyphicon%27%2C%0A%20%20%20%20%20%20%20%20%20%20%20%20%20%20%20%20%20%20%20%20extraClasses%3A%20%27fa-rotate-0%27%0A%20%20%20%20%20%20%20%20%20%20%20%20%20%20%20%20%20%20%20%20%7D%29%3B%0A%20%20%20%20%20%20%20%20%20%20%20%20%20%20%20%20marker_34b19f2418764452b35d437f2669f938.setIcon%28icon_8c543d515ec34bbfa6f57b981327dd36%29%3B%0A%20%20%20%20%20%20%20%20%20%20%20%20%0A%20%20%20%20%0A%20%20%20%20%20%20%20%20%20%20%20%20var%20popup_d7ca73f6619241a9b9017b45cb3cbf61%20%3D%20L.popup%28%7BmaxWidth%3A%20%27100%25%27%0A%20%20%20%20%20%20%20%20%20%20%20%20%0A%20%20%20%20%20%20%20%20%20%20%20%20%7D%29%3B%0A%0A%20%20%20%20%20%20%20%20%20%20%20%20%0A%20%20%20%20%20%20%20%20%20%20%20%20%20%20%20%20var%20html_af3a8792f66d4e5f88b23ddec3f9ccbc%20%3D%20%24%28%60%3Cdiv%20id%3D%22html_af3a8792f66d4e5f88b23ddec3f9ccbc%22%20style%3D%22width%3A%20100.0%25%3B%20height%3A%20100.0%25%3B%22%3EPonto1%20da%20lista%3C/div%3E%60%29%5B0%5D%3B%0A%20%20%20%20%20%20%20%20%20%20%20%20%20%20%20%20popup_d7ca73f6619241a9b9017b45cb3cbf61.setContent%28html_af3a8792f66d4e5f88b23ddec3f9ccbc%29%3B%0A%20%20%20%20%20%20%20%20%20%20%20%20%0A%0A%20%20%20%20%20%20%20%20%20%20%20%20marker_34b19f2418764452b35d437f2669f938.bindPopup%28popup_d7ca73f6619241a9b9017b45cb3cbf61%29%0A%20%20%20%20%20%20%20%20%20%20%20%20%3B%0A%0A%20%20%20%20%20%20%20%20%20%20%20%20%0A%20%20%20%20%20%20%20%20%0A%20%20%20%20%0A%20%20%20%20%20%20%20%20var%20marker_8190d627861e442ea66a150f954dc68c%20%3D%20L.marker%28%0A%20%20%20%20%20%20%20%20%20%20%20%20%5B-2.499173%2C%20-44.262842%5D%2C%0A%20%20%20%20%20%20%20%20%20%20%20%20%7B%0A%20%20%20%20%20%20%20%20%20%20%20%20%20%20%20%20icon%3A%20new%20L.Icon.Default%28%29%2C%0A%20%20%20%20%20%20%20%20%20%20%20%20%20%20%20%20%7D%0A%20%20%20%20%20%20%20%20%20%20%20%20%29.addTo%28map_e3db1a6cffc64561b430ebd2fe80d131%29%3B%0A%20%20%20%20%20%20%20%20%0A%20%20%20%20%0A%0A%20%20%20%20%20%20%20%20%20%20%20%20%20%20%20%20var%20icon_bcf9a50e67a6479a94d1af4663a86f2b%20%3D%20L.AwesomeMarkers.icon%28%7B%0A%20%20%20%20%20%20%20%20%20%20%20%20%20%20%20%20%20%20%20%20icon%3A%20%27home%27%2C%0A%20%20%20%20%20%20%20%20%20%20%20%20%20%20%20%20%20%20%20%20iconColor%3A%20%27white%27%2C%0A%20%20%20%20%20%20%20%20%20%20%20%20%20%20%20%20%20%20%20%20markerColor%3A%20%27green%27%2C%0A%20%20%20%20%20%20%20%20%20%20%20%20%20%20%20%20%20%20%20%20prefix%3A%20%27glyphicon%27%2C%0A%20%20%20%20%20%20%20%20%20%20%20%20%20%20%20%20%20%20%20%20extraClasses%3A%20%27fa-rotate-0%27%0A%20%20%20%20%20%20%20%20%20%20%20%20%20%20%20%20%20%20%20%20%7D%29%3B%0A%20%20%20%20%20%20%20%20%20%20%20%20%20%20%20%20marker_8190d627861e442ea66a150f954dc68c.setIcon%28icon_bcf9a50e67a6479a94d1af4663a86f2b%29%3B%0A%20%20%20%20%20%20%20%20%20%20%20%20%0A%20%20%20%20%0A%20%20%20%20%20%20%20%20%20%20%20%20var%20popup_00ae3438ad74408d8fdfe609182af778%20%3D%20L.popup%28%7BmaxWidth%3A%20%27100%25%27%0A%20%20%20%20%20%20%20%20%20%20%20%20%0A%20%20%20%20%20%20%20%20%20%20%20%20%7D%29%3B%0A%0A%20%20%20%20%20%20%20%20%20%20%20%20%0A%20%20%20%20%20%20%20%20%20%20%20%20%20%20%20%20var%20html_caa3db7288914a9984ed2603c334b996%20%3D%20%24%28%60%3Cdiv%20id%3D%22html_caa3db7288914a9984ed2603c334b996%22%20style%3D%22width%3A%20100.0%25%3B%20height%3A%20100.0%25%3B%22%3EPonto2%20da%20lista%3C/div%3E%60%29%5B0%5D%3B%0A%20%20%20%20%20%20%20%20%20%20%20%20%20%20%20%20popup_00ae3438ad74408d8fdfe609182af778.setContent%28html_caa3db7288914a9984ed2603c334b996%29%3B%0A%20%20%20%20%20%20%20%20%20%20%20%20%0A%0A%20%20%20%20%20%20%20%20%20%20%20%20marker_8190d627861e442ea66a150f954dc68c.bindPopup%28popup_00ae3438ad74408d8fdfe609182af778%29%0A%20%20%20%20%20%20%20%20%20%20%20%20%3B%0A%0A%20%20%20%20%20%20%20%20%20%20%20%20%0A%20%20%20%20%20%20%20%20%0A%20%20%20%20%0A%20%20%20%20%20%20%20%20var%20marker_5d2286224ed843028a4f53526cb6dc55%20%3D%20L.marker%28%0A%20%20%20%20%20%20%20%20%20%20%20%20%5B-2.499068%2C%20-44.267026%5D%2C%0A%20%20%20%20%20%20%20%20%20%20%20%20%7B%0A%20%20%20%20%20%20%20%20%20%20%20%20%20%20%20%20icon%3A%20new%20L.Icon.Default%28%29%2C%0A%20%20%20%20%20%20%20%20%20%20%20%20%20%20%20%20%7D%0A%20%20%20%20%20%20%20%20%20%20%20%20%29.addTo%28map_e3db1a6cffc64561b430ebd2fe80d131%29%3B%0A%20%20%20%20%20%20%20%20%0A%20%20%20%20%0A%0A%20%20%20%20%20%20%20%20%20%20%20%20%20%20%20%20var%20icon_5fe22905e36b406f8f973ea7c090f0a3%20%3D%20L.AwesomeMarkers.icon%28%7B%0A%20%20%20%20%20%20%20%20%20%20%20%20%20%20%20%20%20%20%20%20icon%3A%20%27home%27%2C%0A%20%20%20%20%20%20%20%20%20%20%20%20%20%20%20%20%20%20%20%20iconColor%3A%20%27white%27%2C%0A%20%20%20%20%20%20%20%20%20%20%20%20%20%20%20%20%20%20%20%20markerColor%3A%20%27green%27%2C%0A%20%20%20%20%20%20%20%20%20%20%20%20%20%20%20%20%20%20%20%20prefix%3A%20%27glyphicon%27%2C%0A%20%20%20%20%20%20%20%20%20%20%20%20%20%20%20%20%20%20%20%20extraClasses%3A%20%27fa-rotate-0%27%0A%20%20%20%20%20%20%20%20%20%20%20%20%20%20%20%20%20%20%20%20%7D%29%3B%0A%20%20%20%20%20%20%20%20%20%20%20%20%20%20%20%20marker_5d2286224ed843028a4f53526cb6dc55.setIcon%28icon_5fe22905e36b406f8f973ea7c090f0a3%29%3B%0A%20%20%20%20%20%20%20%20%20%20%20%20%0A%20%20%20%20%0A%20%20%20%20%20%20%20%20%20%20%20%20var%20popup_2455a927b08043a188689e8c66214aa5%20%3D%20L.popup%28%7BmaxWidth%3A%20%27100%25%27%0A%20%20%20%20%20%20%20%20%20%20%20%20%0A%20%20%20%20%20%20%20%20%20%20%20%20%7D%29%3B%0A%0A%20%20%20%20%20%20%20%20%20%20%20%20%0A%20%20%20%20%20%20%20%20%20%20%20%20%20%20%20%20var%20html_84b5f6d5347a4e32b8364d8b46c90f60%20%3D%20%24%28%60%3Cdiv%20id%3D%22html_84b5f6d5347a4e32b8364d8b46c90f60%22%20style%3D%22width%3A%20100.0%25%3B%20height%3A%20100.0%25%3B%22%3EPonto3%20da%20lista%3C/div%3E%60%29%5B0%5D%3B%0A%20%20%20%20%20%20%20%20%20%20%20%20%20%20%20%20popup_2455a927b08043a188689e8c66214aa5.setContent%28html_84b5f6d5347a4e32b8364d8b46c90f60%29%3B%0A%20%20%20%20%20%20%20%20%20%20%20%20%0A%0A%20%20%20%20%20%20%20%20%20%20%20%20marker_5d2286224ed843028a4f53526cb6dc55.bindPopup%28popup_2455a927b08043a188689e8c66214aa5%29%0A%20%20%20%20%20%20%20%20%20%20%20%20%3B%0A%0A%20%20%20%20%20%20%20%20%20%20%20%20%0A%20%20%20%20%20%20%20%20%0A%20%20%20%20%0A%20%20%20%20%20%20%20%20var%20marker_f3e99157d0564ec1b12bd7d8b92de751%20%3D%20L.marker%28%0A%20%20%20%20%20%20%20%20%20%20%20%20%5B-2.498071%2C%20-44.271961%5D%2C%0A%20%20%20%20%20%20%20%20%20%20%20%20%7B%0A%20%20%20%20%20%20%20%20%20%20%20%20%20%20%20%20icon%3A%20new%20L.Icon.Default%28%29%2C%0A%20%20%20%20%20%20%20%20%20%20%20%20%20%20%20%20%7D%0A%20%20%20%20%20%20%20%20%20%20%20%20%29.addTo%28map_e3db1a6cffc64561b430ebd2fe80d131%29%3B%0A%20%20%20%20%20%20%20%20%0A%20%20%20%20%0A%0A%20%20%20%20%20%20%20%20%20%20%20%20%20%20%20%20var%20icon_9a7b90e5c9b84df3bf7d1c0b56ff64e6%20%3D%20L.AwesomeMarkers.icon%28%7B%0A%20%20%20%20%20%20%20%20%20%20%20%20%20%20%20%20%20%20%20%20icon%3A%20%27home%27%2C%0A%20%20%20%20%20%20%20%20%20%20%20%20%20%20%20%20%20%20%20%20iconColor%3A%20%27white%27%2C%0A%20%20%20%20%20%20%20%20%20%20%20%20%20%20%20%20%20%20%20%20markerColor%3A%20%27green%27%2C%0A%20%20%20%20%20%20%20%20%20%20%20%20%20%20%20%20%20%20%20%20prefix%3A%20%27glyphicon%27%2C%0A%20%20%20%20%20%20%20%20%20%20%20%20%20%20%20%20%20%20%20%20extraClasses%3A%20%27fa-rotate-0%27%0A%20%20%20%20%20%20%20%20%20%20%20%20%20%20%20%20%20%20%20%20%7D%29%3B%0A%20%20%20%20%20%20%20%20%20%20%20%20%20%20%20%20marker_f3e99157d0564ec1b12bd7d8b92de751.setIcon%28icon_9a7b90e5c9b84df3bf7d1c0b56ff64e6%29%3B%0A%20%20%20%20%20%20%20%20%20%20%20%20%0A%20%20%20%20%0A%20%20%20%20%20%20%20%20%20%20%20%20var%20popup_55a9b8a243b3416095ff0318bbd5f7dd%20%3D%20L.popup%28%7BmaxWidth%3A%20%27100%25%27%0A%20%20%20%20%20%20%20%20%20%20%20%20%0A%20%20%20%20%20%20%20%20%20%20%20%20%7D%29%3B%0A%0A%20%20%20%20%20%20%20%20%20%20%20%20%0A%20%20%20%20%20%20%20%20%20%20%20%20%20%20%20%20var%20html_e6058df9aef2476e8c1f75aba4432c52%20%3D%20%24%28%60%3Cdiv%20id%3D%22html_e6058df9aef2476e8c1f75aba4432c52%22%20style%3D%22width%3A%20100.0%25%3B%20height%3A%20100.0%25%3B%22%3EPonto4%20da%20lista%3C/div%3E%60%29%5B0%5D%3B%0A%20%20%20%20%20%20%20%20%20%20%20%20%20%20%20%20popup_55a9b8a243b3416095ff0318bbd5f7dd.setContent%28html_e6058df9aef2476e8c1f75aba4432c52%29%3B%0A%20%20%20%20%20%20%20%20%20%20%20%20%0A%0A%20%20%20%20%20%20%20%20%20%20%20%20marker_f3e99157d0564ec1b12bd7d8b92de751.bindPopup%28popup_55a9b8a243b3416095ff0318bbd5f7dd%29%0A%20%20%20%20%20%20%20%20%20%20%20%20%3B%0A%0A%20%20%20%20%20%20%20%20%20%20%20%20%0A%20%20%20%20%20%20%20%20%0A%20%20%20%20%0A%20%20%20%20%20%20%20%20var%20marker_88f9febfe63642608982f2850b0d9c6b%20%3D%20L.marker%28%0A%20%20%20%20%20%20%20%20%20%20%20%20%5B-2.494834%2C%20-44.271929%5D%2C%0A%20%20%20%20%20%20%20%20%20%20%20%20%7B%0A%20%20%20%20%20%20%20%20%20%20%20%20%20%20%20%20icon%3A%20new%20L.Icon.Default%28%29%2C%0A%20%20%20%20%20%20%20%20%20%20%20%20%20%20%20%20%7D%0A%20%20%20%20%20%20%20%20%20%20%20%20%29.addTo%28map_e3db1a6cffc64561b430ebd2fe80d131%29%3B%0A%20%20%20%20%20%20%20%20%0A%20%20%20%20%0A%0A%20%20%20%20%20%20%20%20%20%20%20%20%20%20%20%20var%20icon_1ad0be34af964380804896ab25ebc730%20%3D%20L.AwesomeMarkers.icon%28%7B%0A%20%20%20%20%20%20%20%20%20%20%20%20%20%20%20%20%20%20%20%20icon%3A%20%27home%27%2C%0A%20%20%20%20%20%20%20%20%20%20%20%20%20%20%20%20%20%20%20%20iconColor%3A%20%27white%27%2C%0A%20%20%20%20%20%20%20%20%20%20%20%20%20%20%20%20%20%20%20%20markerColor%3A%20%27green%27%2C%0A%20%20%20%20%20%20%20%20%20%20%20%20%20%20%20%20%20%20%20%20prefix%3A%20%27glyphicon%27%2C%0A%20%20%20%20%20%20%20%20%20%20%20%20%20%20%20%20%20%20%20%20extraClasses%3A%20%27fa-rotate-0%27%0A%20%20%20%20%20%20%20%20%20%20%20%20%20%20%20%20%20%20%20%20%7D%29%3B%0A%20%20%20%20%20%20%20%20%20%20%20%20%20%20%20%20marker_88f9febfe63642608982f2850b0d9c6b.setIcon%28icon_1ad0be34af964380804896ab25ebc730%29%3B%0A%20%20%20%20%20%20%20%20%20%20%20%20%0A%20%20%20%20%0A%20%20%20%20%20%20%20%20%20%20%20%20var%20popup_defca9b8f48646ec80b66c598da8f996%20%3D%20L.popup%28%7BmaxWidth%3A%20%27100%25%27%0A%20%20%20%20%20%20%20%20%20%20%20%20%0A%20%20%20%20%20%20%20%20%20%20%20%20%7D%29%3B%0A%0A%20%20%20%20%20%20%20%20%20%20%20%20%0A%20%20%20%20%20%20%20%20%20%20%20%20%20%20%20%20var%20html_75b530b7b5e546879d00295fd0a22d01%20%3D%20%24%28%60%3Cdiv%20id%3D%22html_75b530b7b5e546879d00295fd0a22d01%22%20style%3D%22width%3A%20100.0%25%3B%20height%3A%20100.0%25%3B%22%3EPonto5%20da%20lista%3C/div%3E%60%29%5B0%5D%3B%0A%20%20%20%20%20%20%20%20%20%20%20%20%20%20%20%20popup_defca9b8f48646ec80b66c598da8f996.setContent%28html_75b530b7b5e546879d00295fd0a22d01%29%3B%0A%20%20%20%20%20%20%20%20%20%20%20%20%0A%0A%20%20%20%20%20%20%20%20%20%20%20%20marker_88f9febfe63642608982f2850b0d9c6b.bindPopup%28popup_defca9b8f48646ec80b66c598da8f996%29%0A%20%20%20%20%20%20%20%20%20%20%20%20%3B%0A%0A%20%20%20%20%20%20%20%20%20%20%20%20%0A%20%20%20%20%20%20%20%20%0A%20%20%20%20%0A%20%20%20%20%20%20%20%20%20%20%20%20%20%20%20%20var%20poly_line_42e00bdccb744ef4a4501053dc3bfc01%20%3D%20L.polyline%28%0A%20%20%20%20%20%20%20%20%20%20%20%20%20%20%20%20%20%20%20%20%5B%5B-2.493696%2C%20-44.263902%5D%2C%20%5B-2.494768%2C%20-44.261961%5D%2C%20%5B-2.499173%2C%20-44.262842%5D%2C%20%5B-2.499068%2C%20-44.267026%5D%2C%20%5B-2.498071%2C%20-44.271961%5D%2C%20%5B-2.494834%2C%20-44.271929%5D%5D%2C%0A%20%20%20%20%20%20%20%20%20%20%20%20%20%20%20%20%20%20%20%20%7B%0A%20%20%22bubblingMouseEvents%22%3A%20true%2C%0A%20%20%22color%22%3A%20%22red%22%2C%0A%20%20%22dashArray%22%3A%20null%2C%0A%20%20%22dashOffset%22%3A%20null%2C%0A%20%20%22fill%22%3A%20false%2C%0A%20%20%22fillColor%22%3A%20%22red%22%2C%0A%20%20%22fillOpacity%22%3A%200.2%2C%0A%20%20%22fillRule%22%3A%20%22evenodd%22%2C%0A%20%20%22lineCap%22%3A%20%22round%22%2C%0A%20%20%22lineJoin%22%3A%20%22round%22%2C%0A%20%20%22noClip%22%3A%20false%2C%0A%20%20%22opacity%22%3A%201.0%2C%0A%20%20%22smoothFactor%22%3A%201.0%2C%0A%20%20%22stroke%22%3A%20true%2C%0A%20%20%22weight%22%3A%203%0A%7D%0A%20%20%20%20%20%20%20%20%20%20%20%20%20%20%20%20%20%20%20%20%29%0A%20%20%20%20%20%20%20%20%20%20%20%20%20%20%20%20%20%20%20%20.addTo%28map_e3db1a6cffc64561b430ebd2fe80d131%29%3B%0A%20%20%20%20%20%20%20%20%20%20%20%20%0A%3C/script%3E onload=\"this.contentDocument.open();this.contentDocument.write(    decodeURIComponent(this.getAttribute('data-html')));this.contentDocument.close();\" \"allowfullscreen\" \"webkitallowfullscreen\" \"mozallowfullscreen\"></iframe>"
            ],
            "text/plain": [
              "<folium.folium.Map at 0x7f671033a5d0>"
            ]
          },
          "metadata": {},
          "execution_count": 28
        }
      ]
    }
  ]
}