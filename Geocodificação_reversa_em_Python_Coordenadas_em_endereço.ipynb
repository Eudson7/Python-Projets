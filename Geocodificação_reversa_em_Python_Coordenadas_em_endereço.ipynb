{
  "nbformat": 4,
  "nbformat_minor": 0,
  "metadata": {
    "colab": {
      "name": "Geocodificação reversa em Python - Coordenadas em endereço.ipynb",
      "provenance": [],
      "collapsed_sections": [],
      "authorship_tag": "ABX9TyMwe7qCxd8iWHHPpFkb1Zch",
      "include_colab_link": true
    },
    "kernelspec": {
      "name": "python3",
      "display_name": "Python 3"
    },
    "language_info": {
      "name": "python"
    },
    "widgets": {
      "application/vnd.jupyter.widget-state+json": {
        "af53627c872f491da130d19f81817a85": {
          "model_module": "@jupyter-widgets/controls",
          "model_name": "HBoxModel",
          "model_module_version": "1.5.0",
          "state": {
            "_view_name": "HBoxView",
            "_dom_classes": [],
            "_model_name": "HBoxModel",
            "_view_module": "@jupyter-widgets/controls",
            "_model_module_version": "1.5.0",
            "_view_count": null,
            "_view_module_version": "1.5.0",
            "box_style": "",
            "layout": "IPY_MODEL_93ac7c5cc20d45f58e7198875b127cfd",
            "_model_module": "@jupyter-widgets/controls",
            "children": [
              "IPY_MODEL_dd64d47ee0f347d58e9315a2e41dbc52",
              "IPY_MODEL_374110f56c734371a624d3f369ca56db",
              "IPY_MODEL_e9df94343428489b80c98052a3d5f0a0"
            ]
          }
        },
        "93ac7c5cc20d45f58e7198875b127cfd": {
          "model_module": "@jupyter-widgets/base",
          "model_name": "LayoutModel",
          "model_module_version": "1.2.0",
          "state": {
            "_view_name": "LayoutView",
            "grid_template_rows": null,
            "right": null,
            "justify_content": null,
            "_view_module": "@jupyter-widgets/base",
            "overflow": null,
            "_model_module_version": "1.2.0",
            "_view_count": null,
            "flex_flow": null,
            "width": null,
            "min_width": null,
            "border": null,
            "align_items": null,
            "bottom": null,
            "_model_module": "@jupyter-widgets/base",
            "top": null,
            "grid_column": null,
            "overflow_y": null,
            "overflow_x": null,
            "grid_auto_flow": null,
            "grid_area": null,
            "grid_template_columns": null,
            "flex": null,
            "_model_name": "LayoutModel",
            "justify_items": null,
            "grid_row": null,
            "max_height": null,
            "align_content": null,
            "visibility": null,
            "align_self": null,
            "height": null,
            "min_height": null,
            "padding": null,
            "grid_auto_rows": null,
            "grid_gap": null,
            "max_width": null,
            "order": null,
            "_view_module_version": "1.2.0",
            "grid_template_areas": null,
            "object_position": null,
            "object_fit": null,
            "grid_auto_columns": null,
            "margin": null,
            "display": null,
            "left": null
          }
        },
        "dd64d47ee0f347d58e9315a2e41dbc52": {
          "model_module": "@jupyter-widgets/controls",
          "model_name": "HTMLModel",
          "model_module_version": "1.5.0",
          "state": {
            "_view_name": "HTMLView",
            "style": "IPY_MODEL_47a0606020e24fecbc667eb684db2b70",
            "_dom_classes": [],
            "description": "",
            "_model_name": "HTMLModel",
            "placeholder": "​",
            "_view_module": "@jupyter-widgets/controls",
            "_model_module_version": "1.5.0",
            "value": "",
            "_view_count": null,
            "_view_module_version": "1.5.0",
            "description_tooltip": null,
            "_model_module": "@jupyter-widgets/controls",
            "layout": "IPY_MODEL_a4241ea750b14f859b2a9a3fc0182008"
          }
        },
        "374110f56c734371a624d3f369ca56db": {
          "model_module": "@jupyter-widgets/controls",
          "model_name": "FloatProgressModel",
          "model_module_version": "1.5.0",
          "state": {
            "_view_name": "ProgressView",
            "style": "IPY_MODEL_7971cfde7fce48dc92305a2b276f6af6",
            "_dom_classes": [],
            "description": "",
            "_model_name": "FloatProgressModel",
            "bar_style": "success",
            "max": 1,
            "_view_module": "@jupyter-widgets/controls",
            "_model_module_version": "1.5.0",
            "value": 0,
            "_view_count": null,
            "_view_module_version": "1.5.0",
            "orientation": "horizontal",
            "min": 0,
            "description_tooltip": null,
            "_model_module": "@jupyter-widgets/controls",
            "layout": "IPY_MODEL_5efed4cc0c2042598e76e606f66ef06a"
          }
        },
        "e9df94343428489b80c98052a3d5f0a0": {
          "model_module": "@jupyter-widgets/controls",
          "model_name": "HTMLModel",
          "model_module_version": "1.5.0",
          "state": {
            "_view_name": "HTMLView",
            "style": "IPY_MODEL_dc8e8270de824328afc8495eef199335",
            "_dom_classes": [],
            "description": "",
            "_model_name": "HTMLModel",
            "placeholder": "​",
            "_view_module": "@jupyter-widgets/controls",
            "_model_module_version": "1.5.0",
            "value": " 0/? [10:24&lt;?, ?it/s]",
            "_view_count": null,
            "_view_module_version": "1.5.0",
            "description_tooltip": null,
            "_model_module": "@jupyter-widgets/controls",
            "layout": "IPY_MODEL_74aa8063259d4ef492dc10d74eaf4bbc"
          }
        },
        "47a0606020e24fecbc667eb684db2b70": {
          "model_module": "@jupyter-widgets/controls",
          "model_name": "DescriptionStyleModel",
          "model_module_version": "1.5.0",
          "state": {
            "_view_name": "StyleView",
            "_model_name": "DescriptionStyleModel",
            "description_width": "",
            "_view_module": "@jupyter-widgets/base",
            "_model_module_version": "1.5.0",
            "_view_count": null,
            "_view_module_version": "1.2.0",
            "_model_module": "@jupyter-widgets/controls"
          }
        },
        "a4241ea750b14f859b2a9a3fc0182008": {
          "model_module": "@jupyter-widgets/base",
          "model_name": "LayoutModel",
          "model_module_version": "1.2.0",
          "state": {
            "_view_name": "LayoutView",
            "grid_template_rows": null,
            "right": null,
            "justify_content": null,
            "_view_module": "@jupyter-widgets/base",
            "overflow": null,
            "_model_module_version": "1.2.0",
            "_view_count": null,
            "flex_flow": null,
            "width": null,
            "min_width": null,
            "border": null,
            "align_items": null,
            "bottom": null,
            "_model_module": "@jupyter-widgets/base",
            "top": null,
            "grid_column": null,
            "overflow_y": null,
            "overflow_x": null,
            "grid_auto_flow": null,
            "grid_area": null,
            "grid_template_columns": null,
            "flex": null,
            "_model_name": "LayoutModel",
            "justify_items": null,
            "grid_row": null,
            "max_height": null,
            "align_content": null,
            "visibility": null,
            "align_self": null,
            "height": null,
            "min_height": null,
            "padding": null,
            "grid_auto_rows": null,
            "grid_gap": null,
            "max_width": null,
            "order": null,
            "_view_module_version": "1.2.0",
            "grid_template_areas": null,
            "object_position": null,
            "object_fit": null,
            "grid_auto_columns": null,
            "margin": null,
            "display": null,
            "left": null
          }
        },
        "7971cfde7fce48dc92305a2b276f6af6": {
          "model_module": "@jupyter-widgets/controls",
          "model_name": "ProgressStyleModel",
          "model_module_version": "1.5.0",
          "state": {
            "_view_name": "StyleView",
            "_model_name": "ProgressStyleModel",
            "description_width": "",
            "_view_module": "@jupyter-widgets/base",
            "_model_module_version": "1.5.0",
            "_view_count": null,
            "_view_module_version": "1.2.0",
            "bar_color": null,
            "_model_module": "@jupyter-widgets/controls"
          }
        },
        "5efed4cc0c2042598e76e606f66ef06a": {
          "model_module": "@jupyter-widgets/base",
          "model_name": "LayoutModel",
          "model_module_version": "1.2.0",
          "state": {
            "_view_name": "LayoutView",
            "grid_template_rows": null,
            "right": null,
            "justify_content": null,
            "_view_module": "@jupyter-widgets/base",
            "overflow": null,
            "_model_module_version": "1.2.0",
            "_view_count": null,
            "flex_flow": null,
            "width": "20px",
            "min_width": null,
            "border": null,
            "align_items": null,
            "bottom": null,
            "_model_module": "@jupyter-widgets/base",
            "top": null,
            "grid_column": null,
            "overflow_y": null,
            "overflow_x": null,
            "grid_auto_flow": null,
            "grid_area": null,
            "grid_template_columns": null,
            "flex": null,
            "_model_name": "LayoutModel",
            "justify_items": null,
            "grid_row": null,
            "max_height": null,
            "align_content": null,
            "visibility": null,
            "align_self": null,
            "height": null,
            "min_height": null,
            "padding": null,
            "grid_auto_rows": null,
            "grid_gap": null,
            "max_width": null,
            "order": null,
            "_view_module_version": "1.2.0",
            "grid_template_areas": null,
            "object_position": null,
            "object_fit": null,
            "grid_auto_columns": null,
            "margin": null,
            "display": null,
            "left": null
          }
        },
        "dc8e8270de824328afc8495eef199335": {
          "model_module": "@jupyter-widgets/controls",
          "model_name": "DescriptionStyleModel",
          "model_module_version": "1.5.0",
          "state": {
            "_view_name": "StyleView",
            "_model_name": "DescriptionStyleModel",
            "description_width": "",
            "_view_module": "@jupyter-widgets/base",
            "_model_module_version": "1.5.0",
            "_view_count": null,
            "_view_module_version": "1.2.0",
            "_model_module": "@jupyter-widgets/controls"
          }
        },
        "74aa8063259d4ef492dc10d74eaf4bbc": {
          "model_module": "@jupyter-widgets/base",
          "model_name": "LayoutModel",
          "model_module_version": "1.2.0",
          "state": {
            "_view_name": "LayoutView",
            "grid_template_rows": null,
            "right": null,
            "justify_content": null,
            "_view_module": "@jupyter-widgets/base",
            "overflow": null,
            "_model_module_version": "1.2.0",
            "_view_count": null,
            "flex_flow": null,
            "width": null,
            "min_width": null,
            "border": null,
            "align_items": null,
            "bottom": null,
            "_model_module": "@jupyter-widgets/base",
            "top": null,
            "grid_column": null,
            "overflow_y": null,
            "overflow_x": null,
            "grid_auto_flow": null,
            "grid_area": null,
            "grid_template_columns": null,
            "flex": null,
            "_model_name": "LayoutModel",
            "justify_items": null,
            "grid_row": null,
            "max_height": null,
            "align_content": null,
            "visibility": null,
            "align_self": null,
            "height": null,
            "min_height": null,
            "padding": null,
            "grid_auto_rows": null,
            "grid_gap": null,
            "max_width": null,
            "order": null,
            "_view_module_version": "1.2.0",
            "grid_template_areas": null,
            "object_position": null,
            "object_fit": null,
            "grid_auto_columns": null,
            "margin": null,
            "display": null,
            "left": null
          }
        },
        "2605ded766374fd19d6b64077d43b1cd": {
          "model_module": "@jupyter-widgets/controls",
          "model_name": "HBoxModel",
          "model_module_version": "1.5.0",
          "state": {
            "_view_name": "HBoxView",
            "_dom_classes": [],
            "_model_name": "HBoxModel",
            "_view_module": "@jupyter-widgets/controls",
            "_model_module_version": "1.5.0",
            "_view_count": null,
            "_view_module_version": "1.5.0",
            "box_style": "",
            "layout": "IPY_MODEL_c0311349e981452083f0b2889c80c1bf",
            "_model_module": "@jupyter-widgets/controls",
            "children": [
              "IPY_MODEL_0594ac3d8ac54269a97fa62bb807ddff",
              "IPY_MODEL_7c3c96dee960472696fd10a8d95c319a",
              "IPY_MODEL_da917eda8cfc4a52a18954abb9a75cb3"
            ]
          }
        },
        "c0311349e981452083f0b2889c80c1bf": {
          "model_module": "@jupyter-widgets/base",
          "model_name": "LayoutModel",
          "model_module_version": "1.2.0",
          "state": {
            "_view_name": "LayoutView",
            "grid_template_rows": null,
            "right": null,
            "justify_content": null,
            "_view_module": "@jupyter-widgets/base",
            "overflow": null,
            "_model_module_version": "1.2.0",
            "_view_count": null,
            "flex_flow": null,
            "width": null,
            "min_width": null,
            "border": null,
            "align_items": null,
            "bottom": null,
            "_model_module": "@jupyter-widgets/base",
            "top": null,
            "grid_column": null,
            "overflow_y": null,
            "overflow_x": null,
            "grid_auto_flow": null,
            "grid_area": null,
            "grid_template_columns": null,
            "flex": null,
            "_model_name": "LayoutModel",
            "justify_items": null,
            "grid_row": null,
            "max_height": null,
            "align_content": null,
            "visibility": null,
            "align_self": null,
            "height": null,
            "min_height": null,
            "padding": null,
            "grid_auto_rows": null,
            "grid_gap": null,
            "max_width": null,
            "order": null,
            "_view_module_version": "1.2.0",
            "grid_template_areas": null,
            "object_position": null,
            "object_fit": null,
            "grid_auto_columns": null,
            "margin": null,
            "display": null,
            "left": null
          }
        },
        "0594ac3d8ac54269a97fa62bb807ddff": {
          "model_module": "@jupyter-widgets/controls",
          "model_name": "HTMLModel",
          "model_module_version": "1.5.0",
          "state": {
            "_view_name": "HTMLView",
            "style": "IPY_MODEL_3dc93d9605d54ae790aed4c5a8597c89",
            "_dom_classes": [],
            "description": "",
            "_model_name": "HTMLModel",
            "placeholder": "​",
            "_view_module": "@jupyter-widgets/controls",
            "_model_module_version": "1.5.0",
            "value": "100%",
            "_view_count": null,
            "_view_module_version": "1.5.0",
            "description_tooltip": null,
            "_model_module": "@jupyter-widgets/controls",
            "layout": "IPY_MODEL_a399c5e7734c44ca854b851c1c3dd7da"
          }
        },
        "7c3c96dee960472696fd10a8d95c319a": {
          "model_module": "@jupyter-widgets/controls",
          "model_name": "FloatProgressModel",
          "model_module_version": "1.5.0",
          "state": {
            "_view_name": "ProgressView",
            "style": "IPY_MODEL_2fd9a56e4df74b7eaa121352a6faccaf",
            "_dom_classes": [],
            "description": "",
            "_model_name": "FloatProgressModel",
            "bar_style": "success",
            "max": 150,
            "_view_module": "@jupyter-widgets/controls",
            "_model_module_version": "1.5.0",
            "value": 150,
            "_view_count": null,
            "_view_module_version": "1.5.0",
            "orientation": "horizontal",
            "min": 0,
            "description_tooltip": null,
            "_model_module": "@jupyter-widgets/controls",
            "layout": "IPY_MODEL_c3ea16c601ee4eed82e88f747885e776"
          }
        },
        "da917eda8cfc4a52a18954abb9a75cb3": {
          "model_module": "@jupyter-widgets/controls",
          "model_name": "HTMLModel",
          "model_module_version": "1.5.0",
          "state": {
            "_view_name": "HTMLView",
            "style": "IPY_MODEL_de920e5a8e4a4291b013831dafe3bf6c",
            "_dom_classes": [],
            "description": "",
            "_model_name": "HTMLModel",
            "placeholder": "​",
            "_view_module": "@jupyter-widgets/controls",
            "_model_module_version": "1.5.0",
            "value": " 150/150 [01:14&lt;00:00,  2.01it/s]",
            "_view_count": null,
            "_view_module_version": "1.5.0",
            "description_tooltip": null,
            "_model_module": "@jupyter-widgets/controls",
            "layout": "IPY_MODEL_1597e26852734325a6faa1a95c32a83e"
          }
        },
        "3dc93d9605d54ae790aed4c5a8597c89": {
          "model_module": "@jupyter-widgets/controls",
          "model_name": "DescriptionStyleModel",
          "model_module_version": "1.5.0",
          "state": {
            "_view_name": "StyleView",
            "_model_name": "DescriptionStyleModel",
            "description_width": "",
            "_view_module": "@jupyter-widgets/base",
            "_model_module_version": "1.5.0",
            "_view_count": null,
            "_view_module_version": "1.2.0",
            "_model_module": "@jupyter-widgets/controls"
          }
        },
        "a399c5e7734c44ca854b851c1c3dd7da": {
          "model_module": "@jupyter-widgets/base",
          "model_name": "LayoutModel",
          "model_module_version": "1.2.0",
          "state": {
            "_view_name": "LayoutView",
            "grid_template_rows": null,
            "right": null,
            "justify_content": null,
            "_view_module": "@jupyter-widgets/base",
            "overflow": null,
            "_model_module_version": "1.2.0",
            "_view_count": null,
            "flex_flow": null,
            "width": null,
            "min_width": null,
            "border": null,
            "align_items": null,
            "bottom": null,
            "_model_module": "@jupyter-widgets/base",
            "top": null,
            "grid_column": null,
            "overflow_y": null,
            "overflow_x": null,
            "grid_auto_flow": null,
            "grid_area": null,
            "grid_template_columns": null,
            "flex": null,
            "_model_name": "LayoutModel",
            "justify_items": null,
            "grid_row": null,
            "max_height": null,
            "align_content": null,
            "visibility": null,
            "align_self": null,
            "height": null,
            "min_height": null,
            "padding": null,
            "grid_auto_rows": null,
            "grid_gap": null,
            "max_width": null,
            "order": null,
            "_view_module_version": "1.2.0",
            "grid_template_areas": null,
            "object_position": null,
            "object_fit": null,
            "grid_auto_columns": null,
            "margin": null,
            "display": null,
            "left": null
          }
        },
        "2fd9a56e4df74b7eaa121352a6faccaf": {
          "model_module": "@jupyter-widgets/controls",
          "model_name": "ProgressStyleModel",
          "model_module_version": "1.5.0",
          "state": {
            "_view_name": "StyleView",
            "_model_name": "ProgressStyleModel",
            "description_width": "",
            "_view_module": "@jupyter-widgets/base",
            "_model_module_version": "1.5.0",
            "_view_count": null,
            "_view_module_version": "1.2.0",
            "bar_color": null,
            "_model_module": "@jupyter-widgets/controls"
          }
        },
        "c3ea16c601ee4eed82e88f747885e776": {
          "model_module": "@jupyter-widgets/base",
          "model_name": "LayoutModel",
          "model_module_version": "1.2.0",
          "state": {
            "_view_name": "LayoutView",
            "grid_template_rows": null,
            "right": null,
            "justify_content": null,
            "_view_module": "@jupyter-widgets/base",
            "overflow": null,
            "_model_module_version": "1.2.0",
            "_view_count": null,
            "flex_flow": null,
            "width": null,
            "min_width": null,
            "border": null,
            "align_items": null,
            "bottom": null,
            "_model_module": "@jupyter-widgets/base",
            "top": null,
            "grid_column": null,
            "overflow_y": null,
            "overflow_x": null,
            "grid_auto_flow": null,
            "grid_area": null,
            "grid_template_columns": null,
            "flex": null,
            "_model_name": "LayoutModel",
            "justify_items": null,
            "grid_row": null,
            "max_height": null,
            "align_content": null,
            "visibility": null,
            "align_self": null,
            "height": null,
            "min_height": null,
            "padding": null,
            "grid_auto_rows": null,
            "grid_gap": null,
            "max_width": null,
            "order": null,
            "_view_module_version": "1.2.0",
            "grid_template_areas": null,
            "object_position": null,
            "object_fit": null,
            "grid_auto_columns": null,
            "margin": null,
            "display": null,
            "left": null
          }
        },
        "de920e5a8e4a4291b013831dafe3bf6c": {
          "model_module": "@jupyter-widgets/controls",
          "model_name": "DescriptionStyleModel",
          "model_module_version": "1.5.0",
          "state": {
            "_view_name": "StyleView",
            "_model_name": "DescriptionStyleModel",
            "description_width": "",
            "_view_module": "@jupyter-widgets/base",
            "_model_module_version": "1.5.0",
            "_view_count": null,
            "_view_module_version": "1.2.0",
            "_model_module": "@jupyter-widgets/controls"
          }
        },
        "1597e26852734325a6faa1a95c32a83e": {
          "model_module": "@jupyter-widgets/base",
          "model_name": "LayoutModel",
          "model_module_version": "1.2.0",
          "state": {
            "_view_name": "LayoutView",
            "grid_template_rows": null,
            "right": null,
            "justify_content": null,
            "_view_module": "@jupyter-widgets/base",
            "overflow": null,
            "_model_module_version": "1.2.0",
            "_view_count": null,
            "flex_flow": null,
            "width": null,
            "min_width": null,
            "border": null,
            "align_items": null,
            "bottom": null,
            "_model_module": "@jupyter-widgets/base",
            "top": null,
            "grid_column": null,
            "overflow_y": null,
            "overflow_x": null,
            "grid_auto_flow": null,
            "grid_area": null,
            "grid_template_columns": null,
            "flex": null,
            "_model_name": "LayoutModel",
            "justify_items": null,
            "grid_row": null,
            "max_height": null,
            "align_content": null,
            "visibility": null,
            "align_self": null,
            "height": null,
            "min_height": null,
            "padding": null,
            "grid_auto_rows": null,
            "grid_gap": null,
            "max_width": null,
            "order": null,
            "_view_module_version": "1.2.0",
            "grid_template_areas": null,
            "object_position": null,
            "object_fit": null,
            "grid_auto_columns": null,
            "margin": null,
            "display": null,
            "left": null
          }
        }
      }
    }
  },
  "cells": [
    {
      "cell_type": "markdown",
      "metadata": {
        "id": "view-in-github",
        "colab_type": "text"
      },
      "source": [
        "<a href=\"https://colab.research.google.com/github/Eudson7/Python-Projets/blob/main/Geocodifica%C3%A7%C3%A3o_reversa_em_Python_Coordenadas_em_endere%C3%A7o.ipynb\" target=\"_parent\"><img src=\"https://colab.research.google.com/assets/colab-badge.svg\" alt=\"Open In Colab\"/></a>"
      ]
    },
    {
      "cell_type": "markdown",
      "metadata": {
        "id": "o7P7nE3cfSwI"
      },
      "source": [
        "# Geocodificação reversa em Python\n",
        "Como converter latitude / longitude bruta em dados com endereços.\n",
        "\n",
        "Fonte: https://towardsdatascience.com/reverse-geocoding-in-python-a915acf29eb6"
      ]
    },
    {
      "cell_type": "markdown",
      "metadata": {
        "id": "Bi9Jtxa8g9KE"
      },
      "source": [
        "Ao tentar executar uma copia que fiz do código do artigo do Abdishakur, me deparei com alguns erros, não sei se foi por causa de versão de biblioteca ou algo do tipo. Então corri atrás, pois queria ver esse codigo rodando. Encontrei os erros, ajustei e funcionou muito bem.\n",
        "\n",
        "Então resolvi compartilhar o codigo com os ajustes, pois é muito útil esse artigo dele sobre geocoficação.\n",
        "\n",
        "Obrigado, Abdishakur por esse excelente artigo! Os méritos são seus!"
      ]
    },
    {
      "cell_type": "markdown",
      "metadata": {
        "id": "t8c1-hHHOPCd"
      },
      "source": [
        "Vamos instalar os pacotes necessários"
      ]
    },
    {
      "cell_type": "code",
      "metadata": {
        "id": "e2WpNv6FaNnt"
      },
      "source": [
        "!pip install geopandas\n",
        "!pip install plotly_express\n",
        "!pip install pandas\n",
        "!pip install ipython-autotime\n",
        "!pip install tqdm==4.62.2\n",
        "#!pip install tqdm==4.36.0"
      ],
      "execution_count": null,
      "outputs": []
    },
    {
      "cell_type": "markdown",
      "metadata": {
        "id": "EzzIZ5YSg-q7"
      },
      "source": [
        "# Exemplo simples de geocodificação reversa\n",
        "Vamos importar nossas bibliotecas primeiro."
      ]
    },
    {
      "cell_type": "code",
      "metadata": {
        "id": "13OhC_9Cz9Sc",
        "colab": {
          "base_uri": "https://localhost:8080/"
        },
        "outputId": "53dd7d23-01c7-4f15-92d7-f0e744a64dbc"
      },
      "source": [
        "%load_ext autotime\n",
        "import pandas as pd\n",
        "\n",
        "import geopandas as gpd\n",
        "import geopy\n",
        "from geopy.geocoders import Nominatim\n",
        "from geopy.extra.rate_limiter import RateLimiter\n",
        "\n",
        "import matplotlib.pyplot as plt\n",
        "import plotly_express as px\n",
        "import tqdm\n",
        "from tqdm import tqdm\n",
        "from tqdm._tqdm_notebook import tqdm_notebook"
      ],
      "execution_count": 6,
      "outputs": [
        {
          "output_type": "stream",
          "name": "stdout",
          "text": [
            "time: 1.29 s (started: 2022-01-09 20:28:49 +00:00)\n"
          ]
        },
        {
          "output_type": "stream",
          "name": "stderr",
          "text": [
            "/usr/local/lib/python3.7/dist-packages/ipykernel_launcher.py:13: TqdmDeprecationWarning:\n",
            "\n",
            "This function will be removed in tqdm==5.0.0\n",
            "Please use `tqdm.notebook.*` instead of `tqdm._tqdm_notebook.*`\n",
            "\n"
          ]
        }
      ]
    },
    {
      "cell_type": "markdown",
      "metadata": {
        "id": "_sjojr4QhSZA"
      },
      "source": [
        "Agora podemos construir nosso geocodificador. Primeiro precisamos especificar o serviço de geocodificação. Você pode acessar diferentes serviços, incluindo 'google', 'bing', 'yahoo' and 'open map quest'. Alguns desses serviços cobram pouco depois de um limite específico, mas em nosso exemplo, usaremos o serviço de geocodificação gratuito do Openstreetmap."
      ]
    },
    {
      "cell_type": "markdown",
      "metadata": {
        "id": "cX_DkfFRhjxx"
      },
      "source": [
        "Depois de fornecer as coordenadas com o serviço de geocodificação de nossa escolha, o resultado é um dicionário de diferentes recursos que você pode acessar. Se você imprimir o elemento bruto da localização, verá vários recursos interessantes derivados das coordenadas."
      ]
    },
    {
      "cell_type": "code",
      "metadata": {
        "id": "AtFtaZQ6cHqV",
        "colab": {
          "base_uri": "https://localhost:8080/"
        },
        "outputId": "be911db4-cd44-4d77-e918-8c92da52eac3"
      },
      "source": [
        "#locator = Nominatim(user_agent=\"myGeocoder\")\n",
        "locator = Nominatim(user_agent=\"my-application\")\n",
        "coordinates = \"53.480837, -2.244914\"\n",
        "location = locator.reverse(coordinates)\n",
        "location.raw"
      ],
      "execution_count": 9,
      "outputs": [
        {
          "output_type": "execute_result",
          "data": {
            "text/plain": [
              "{'address': {'building': 'Eagle Insurance Buildings',\n",
              "  'city': 'Manchester',\n",
              "  'country': 'United Kingdom',\n",
              "  'country_code': 'gb',\n",
              "  'county': 'Greater Manchester',\n",
              "  'house_number': '68',\n",
              "  'neighbourhood': 'Gay Village',\n",
              "  'postcode': 'M2 4NJ',\n",
              "  'road': 'Cross Street',\n",
              "  'state': 'England',\n",
              "  'state_district': 'North West England',\n",
              "  'suburb': 'City Centre'},\n",
              " 'boundingbox': ['53.480856', '53.4810634', '-2.2451761', '-2.2449576'],\n",
              " 'display_name': 'Eagle Insurance Buildings, 68, Cross Street, Gay Village, City Centre, Manchester, Greater Manchester, North West England, England, M2 4NJ, United Kingdom',\n",
              " 'lat': '53.4809597',\n",
              " 'licence': 'Data © OpenStreetMap contributors, ODbL 1.0. https://osm.org/copyright',\n",
              " 'lon': '-2.2450668274629235',\n",
              " 'osm_id': 37139875,\n",
              " 'osm_type': 'way',\n",
              " 'place_id': 111898782}"
            ]
          },
          "metadata": {},
          "execution_count": 9
        },
        {
          "output_type": "stream",
          "name": "stdout",
          "text": [
            "time: 319 ms (started: 2022-01-09 20:29:19 +00:00)\n"
          ]
        }
      ]
    },
    {
      "cell_type": "markdown",
      "metadata": {
        "id": "DHCZozkphs1R"
      },
      "source": [
        "Aqui você tem um edifício, código postal, endereço, país, nome da estrada e um monte de outros atributos perspicazes que não estavam disponíveis com as coordenadas brutas. Se você está interessado apenas em imprimir apenas o endereço, pode usar as chaves do dicionário ou fazer diretamente assim."
      ]
    },
    {
      "cell_type": "code",
      "metadata": {
        "colab": {
          "base_uri": "https://localhost:8080/"
        },
        "id": "AX7meSBaefF1",
        "outputId": "059878a5-6c10-4e12-94fa-7ad83834c52e"
      },
      "source": [
        "print(location.address)"
      ],
      "execution_count": 10,
      "outputs": [
        {
          "output_type": "stream",
          "name": "stdout",
          "text": [
            "Eagle Insurance Buildings, 68, Cross Street, Gay Village, City Centre, Manchester, Greater Manchester, North West England, England, M2 4NJ, United Kingdom\n",
            "time: 2.93 ms (started: 2022-01-09 20:29:47 +00:00)\n"
          ]
        }
      ]
    },
    {
      "cell_type": "markdown",
      "metadata": {
        "id": "jR9Gfypmh83v"
      },
      "source": [
        "E vai imprimir a parte do endereço da saída. Na próxima seção, veremos como podemos usar a geocodificação reversa no Pandas DataFrame."
      ]
    },
    {
      "cell_type": "markdown",
      "metadata": {
        "id": "K_RGrgeiiBmI"
      },
      "source": [
        "# Geocodificação reversa com Pandas DataFrame\n",
        "Freqüentemente, é um subconjunto ou conjunto de dados completo que desejamos obter endereços de latitude e longitude - Geocodificação reversa - em vez de coordenadas individuais. Nesta seção, exploramos como podemos fazer isso com Pandas e Geopy.\n",
        "Primeiro, lemos os dados do URL no Pandas. Os dados são armazenados no Dropbox e podemos usar facilmente com o Pandas se tivermos um link. Você só precisa se certificar de que os últimos caracteres da URL estão configurados para “dl = 1”."
      ]
    },
    {
      "cell_type": "code",
      "metadata": {
        "id": "Flv8YTSIfHsD",
        "colab": {
          "base_uri": "https://localhost:8080/"
        },
        "outputId": "942972c7-24e9-48b6-c7f2-fe86d0f45eb0"
      },
      "source": [
        "url = \"https://www.dropbox.com/s/15gisj8hx218rn1/street-pole-sample.csv?dl=1\"\n",
        "cols = [\"X\", \"Y\", \"POLE_NUM\",\"TYPE\",\"HEIGHT\",\"POLE_DATE\",\"OWNER\"]\n",
        "df = pd.read_csv(url, usecols=cols)"
      ],
      "execution_count": 11,
      "outputs": [
        {
          "output_type": "stream",
          "name": "stdout",
          "text": [
            "time: 1.1 s (started: 2022-01-09 20:30:01 +00:00)\n"
          ]
        }
      ]
    },
    {
      "cell_type": "markdown",
      "metadata": {
        "id": "dc6C5RnALlor"
      },
      "source": [
        "Os dados possuem colunas X e Y onde as coordenadas são armazenadas com outros recursos, conforme mostrado abaixo nesta tabela."
      ]
    },
    {
      "cell_type": "code",
      "metadata": {
        "id": "IIb3HF8e0kiQ",
        "colab": {
          "base_uri": "https://localhost:8080/",
          "height": 224
        },
        "outputId": "6814ba56-3ad9-423b-a9fb-403e187058ef"
      },
      "source": [
        "df.head()"
      ],
      "execution_count": 12,
      "outputs": [
        {
          "output_type": "execute_result",
          "data": {
            "text/html": [
              "\n",
              "  <div id=\"df-ed21e6f0-a912-4812-96ae-8a0d771aa100\">\n",
              "    <div class=\"colab-df-container\">\n",
              "      <div>\n",
              "<style scoped>\n",
              "    .dataframe tbody tr th:only-of-type {\n",
              "        vertical-align: middle;\n",
              "    }\n",
              "\n",
              "    .dataframe tbody tr th {\n",
              "        vertical-align: top;\n",
              "    }\n",
              "\n",
              "    .dataframe thead th {\n",
              "        text-align: right;\n",
              "    }\n",
              "</style>\n",
              "<table border=\"1\" class=\"dataframe\">\n",
              "  <thead>\n",
              "    <tr style=\"text-align: right;\">\n",
              "      <th></th>\n",
              "      <th>X</th>\n",
              "      <th>Y</th>\n",
              "      <th>POLE_NUM</th>\n",
              "      <th>TYPE</th>\n",
              "      <th>HEIGHT</th>\n",
              "      <th>POLE_DATE</th>\n",
              "      <th>OWNER</th>\n",
              "    </tr>\n",
              "  </thead>\n",
              "  <tbody>\n",
              "    <tr>\n",
              "      <th>0</th>\n",
              "      <td>-75.170097</td>\n",
              "      <td>39.942766</td>\n",
              "      <td>214423</td>\n",
              "      <td>WP</td>\n",
              "      <td>NaN</td>\n",
              "      <td>1997-06-09T00:00:00.000Z</td>\n",
              "      <td>PECO</td>\n",
              "    </tr>\n",
              "    <tr>\n",
              "      <th>1</th>\n",
              "      <td>-75.166112</td>\n",
              "      <td>39.941477</td>\n",
              "      <td>215645</td>\n",
              "      <td>AAPT</td>\n",
              "      <td>25.0</td>\n",
              "      <td>1997-06-10T00:00:00.000Z</td>\n",
              "      <td>Streets</td>\n",
              "    </tr>\n",
              "    <tr>\n",
              "      <th>2</th>\n",
              "      <td>-75.163483</td>\n",
              "      <td>39.943068</td>\n",
              "      <td>215926</td>\n",
              "      <td>WP</td>\n",
              "      <td>NaN</td>\n",
              "      <td>1997-06-04T00:00:00.000Z</td>\n",
              "      <td>PECO</td>\n",
              "    </tr>\n",
              "    <tr>\n",
              "      <th>3</th>\n",
              "      <td>-75.167727</td>\n",
              "      <td>39.944528</td>\n",
              "      <td>214515</td>\n",
              "      <td>WP</td>\n",
              "      <td>25.0</td>\n",
              "      <td>1997-06-09T00:00:00.000Z</td>\n",
              "      <td>Streets</td>\n",
              "    </tr>\n",
              "    <tr>\n",
              "      <th>4</th>\n",
              "      <td>-75.171863</td>\n",
              "      <td>39.941486</td>\n",
              "      <td>214380</td>\n",
              "      <td>WP</td>\n",
              "      <td>25.0</td>\n",
              "      <td>1997-06-09T00:00:00.000Z</td>\n",
              "      <td>Streets</td>\n",
              "    </tr>\n",
              "  </tbody>\n",
              "</table>\n",
              "</div>\n",
              "      <button class=\"colab-df-convert\" onclick=\"convertToInteractive('df-ed21e6f0-a912-4812-96ae-8a0d771aa100')\"\n",
              "              title=\"Convert this dataframe to an interactive table.\"\n",
              "              style=\"display:none;\">\n",
              "        \n",
              "  <svg xmlns=\"http://www.w3.org/2000/svg\" height=\"24px\"viewBox=\"0 0 24 24\"\n",
              "       width=\"24px\">\n",
              "    <path d=\"M0 0h24v24H0V0z\" fill=\"none\"/>\n",
              "    <path d=\"M18.56 5.44l.94 2.06.94-2.06 2.06-.94-2.06-.94-.94-2.06-.94 2.06-2.06.94zm-11 1L8.5 8.5l.94-2.06 2.06-.94-2.06-.94L8.5 2.5l-.94 2.06-2.06.94zm10 10l.94 2.06.94-2.06 2.06-.94-2.06-.94-.94-2.06-.94 2.06-2.06.94z\"/><path d=\"M17.41 7.96l-1.37-1.37c-.4-.4-.92-.59-1.43-.59-.52 0-1.04.2-1.43.59L10.3 9.45l-7.72 7.72c-.78.78-.78 2.05 0 2.83L4 21.41c.39.39.9.59 1.41.59.51 0 1.02-.2 1.41-.59l7.78-7.78 2.81-2.81c.8-.78.8-2.07 0-2.86zM5.41 20L4 18.59l7.72-7.72 1.47 1.35L5.41 20z\"/>\n",
              "  </svg>\n",
              "      </button>\n",
              "      \n",
              "  <style>\n",
              "    .colab-df-container {\n",
              "      display:flex;\n",
              "      flex-wrap:wrap;\n",
              "      gap: 12px;\n",
              "    }\n",
              "\n",
              "    .colab-df-convert {\n",
              "      background-color: #E8F0FE;\n",
              "      border: none;\n",
              "      border-radius: 50%;\n",
              "      cursor: pointer;\n",
              "      display: none;\n",
              "      fill: #1967D2;\n",
              "      height: 32px;\n",
              "      padding: 0 0 0 0;\n",
              "      width: 32px;\n",
              "    }\n",
              "\n",
              "    .colab-df-convert:hover {\n",
              "      background-color: #E2EBFA;\n",
              "      box-shadow: 0px 1px 2px rgba(60, 64, 67, 0.3), 0px 1px 3px 1px rgba(60, 64, 67, 0.15);\n",
              "      fill: #174EA6;\n",
              "    }\n",
              "\n",
              "    [theme=dark] .colab-df-convert {\n",
              "      background-color: #3B4455;\n",
              "      fill: #D2E3FC;\n",
              "    }\n",
              "\n",
              "    [theme=dark] .colab-df-convert:hover {\n",
              "      background-color: #434B5C;\n",
              "      box-shadow: 0px 1px 3px 1px rgba(0, 0, 0, 0.15);\n",
              "      filter: drop-shadow(0px 1px 2px rgba(0, 0, 0, 0.3));\n",
              "      fill: #FFFFFF;\n",
              "    }\n",
              "  </style>\n",
              "\n",
              "      <script>\n",
              "        const buttonEl =\n",
              "          document.querySelector('#df-ed21e6f0-a912-4812-96ae-8a0d771aa100 button.colab-df-convert');\n",
              "        buttonEl.style.display =\n",
              "          google.colab.kernel.accessAllowed ? 'block' : 'none';\n",
              "\n",
              "        async function convertToInteractive(key) {\n",
              "          const element = document.querySelector('#df-ed21e6f0-a912-4812-96ae-8a0d771aa100');\n",
              "          const dataTable =\n",
              "            await google.colab.kernel.invokeFunction('convertToInteractive',\n",
              "                                                     [key], {});\n",
              "          if (!dataTable) return;\n",
              "\n",
              "          const docLinkHtml = 'Like what you see? Visit the ' +\n",
              "            '<a target=\"_blank\" href=https://colab.research.google.com/notebooks/data_table.ipynb>data table notebook</a>'\n",
              "            + ' to learn more about interactive tables.';\n",
              "          element.innerHTML = '';\n",
              "          dataTable['output_type'] = 'display_data';\n",
              "          await google.colab.output.renderOutput(dataTable, element);\n",
              "          const docLink = document.createElement('div');\n",
              "          docLink.innerHTML = docLinkHtml;\n",
              "          element.appendChild(docLink);\n",
              "        }\n",
              "      </script>\n",
              "    </div>\n",
              "  </div>\n",
              "  "
            ],
            "text/plain": [
              "           X          Y  POLE_NUM  ... HEIGHT                 POLE_DATE    OWNER\n",
              "0 -75.170097  39.942766    214423  ...    NaN  1997-06-09T00:00:00.000Z     PECO\n",
              "1 -75.166112  39.941477    215645  ...   25.0  1997-06-10T00:00:00.000Z  Streets\n",
              "2 -75.163483  39.943068    215926  ...    NaN  1997-06-04T00:00:00.000Z     PECO\n",
              "3 -75.167727  39.944528    214515  ...   25.0  1997-06-09T00:00:00.000Z  Streets\n",
              "4 -75.171863  39.941486    214380  ...   25.0  1997-06-09T00:00:00.000Z  Streets\n",
              "\n",
              "[5 rows x 7 columns]"
            ]
          },
          "metadata": {},
          "execution_count": 12
        },
        {
          "output_type": "stream",
          "name": "stdout",
          "text": [
            "time: 32.6 ms (started: 2022-01-09 20:30:22 +00:00)\n"
          ]
        }
      ]
    },
    {
      "cell_type": "markdown",
      "metadata": {
        "id": "L-TLEbViLrA9"
      },
      "source": [
        "Vamos ver o tamanho da tabela abaixo"
      ]
    },
    {
      "cell_type": "code",
      "metadata": {
        "id": "Bwhu5LhSLf_X",
        "colab": {
          "base_uri": "https://localhost:8080/"
        },
        "outputId": "7e52b261-ca04-4055-a08f-c8ac3861ddda"
      },
      "source": [
        "df.shape"
      ],
      "execution_count": 13,
      "outputs": [
        {
          "output_type": "execute_result",
          "data": {
            "text/plain": [
              "(150, 7)"
            ]
          },
          "metadata": {},
          "execution_count": 13
        },
        {
          "output_type": "stream",
          "name": "stdout",
          "text": [
            "time: 3.74 ms (started: 2022-01-09 20:30:47 +00:00)\n"
          ]
        }
      ]
    },
    {
      "cell_type": "markdown",
      "metadata": {
        "id": "LHgG40oSiVlC"
      },
      "source": [
        "Também podemos explorar os dados e mostrá-los em um mapa usando o Plotly Express. Com apenas uma linha de código, você pode mostrar um mapa com um mapa interativo básico.\n",
        "\n",
        "Para rodar o codigo abaixo vc precisa criar seu token do MapBox e colocar no local indicado, tente criar seu token por este link: https://docs.mapbox.com/help/glossary/access-token/\n",
        "\n",
        "Porém rodar ou não o mapa interativo não interfere no objetivo. Você pode avancar sem rodar essa parte abaixo."
      ]
    },
    {
      "cell_type": "code",
      "metadata": {
        "colab": {
          "base_uri": "https://localhost:8080/",
          "height": 559
        },
        "id": "Gdhelw-riZBq",
        "outputId": "ca5eecd9-f18f-40b8-dbd4-89ebb39671d2"
      },
      "source": [
        "import plotly_express as px\n",
        "px.set_mapbox_access_token(\"sua_token_aqui\")\n",
        "px.scatter_mapbox(df, lat=\"Y\", lon=\"X\", zoom=14.5)"
      ],
      "execution_count": 14,
      "outputs": [
        {
          "output_type": "display_data",
          "data": {
            "text/html": [
              "<html>\n",
              "<head><meta charset=\"utf-8\" /></head>\n",
              "<body>\n",
              "    <div>\n",
              "            <script src=\"https://cdnjs.cloudflare.com/ajax/libs/mathjax/2.7.5/MathJax.js?config=TeX-AMS-MML_SVG\"></script><script type=\"text/javascript\">if (window.MathJax) {MathJax.Hub.Config({SVG: {font: \"STIX-Web\"}});}</script>\n",
              "                <script type=\"text/javascript\">window.PlotlyConfig = {MathJaxConfig: 'local'};</script>\n",
              "        <script src=\"https://cdn.plot.ly/plotly-latest.min.js\"></script>    \n",
              "            <div id=\"be4eaf1d-0898-4d55-8523-4ad350a5ba17\" class=\"plotly-graph-div\" style=\"height:525px; width:100%;\"></div>\n",
              "            <script type=\"text/javascript\">\n",
              "                \n",
              "                    window.PLOTLYENV=window.PLOTLYENV || {};\n",
              "                    \n",
              "                if (document.getElementById(\"be4eaf1d-0898-4d55-8523-4ad350a5ba17\")) {\n",
              "                    Plotly.newPlot(\n",
              "                        'be4eaf1d-0898-4d55-8523-4ad350a5ba17',\n",
              "                        [{\"hoverlabel\": {\"namelength\": 0}, \"hovertemplate\": \"Y=%{lat}<br>X=%{lon}\", \"lat\": [39.9427660880249, 39.941477314134396, 39.9430681055253, 39.9445279530865, 39.9414861490123, 39.9458123834736, 39.943734222490704, 39.945715845869714, 39.9445160204005, 39.945235394064795, 39.9421003060787, 39.942009547845295, 39.9425569100695, 39.9441380595844, 39.94655295116471, 39.94471412257421, 39.940722703319295, 39.9418700579681, 39.941432568147505, 39.9412106113779, 39.9455913439411, 39.941631399475796, 39.9453216271484, 39.9415617915161, 39.9441235936333, 39.946176947876, 39.942189112503, 39.9419956069136, 39.941697034536794, 39.9403614874189, 39.9401786675993, 39.9434598756854, 39.9420902248872, 39.9431896154041, 39.945430863797895, 39.9435696723346, 39.9421963890193, 39.943662268512895, 39.945913371615895, 39.9447291290113, 39.9438161372329, 39.9417940701319, 39.943290066897895, 39.94553263735821, 39.9447444628453, 39.9417476047159, 39.9409625683542, 39.944490892950796, 39.9445699506451, 39.9449078909761, 39.946184951901294, 39.9434308808985, 39.945712206653, 39.9444477229531, 39.9448439241796, 39.942462449375604, 39.9454532004975, 39.9409449392005, 39.9430276704463, 39.9426871252342, 39.9445946467228, 39.9448442707899, 39.9459730420916, 39.9417954502535, 39.9419381840676, 39.9446221329751, 39.94400922034461, 39.944719621934, 39.9430064824281, 39.9434539696837, 39.942744448668606, 39.9405701384996, 39.9450187151075, 39.9447011314276, 39.940969813554396, 39.9435733323148, 39.943578661452, 39.9425954727087, 39.941074901031, 39.941227462484996, 39.9457636200776, 39.94139080509761, 39.9412106113779, 39.944340910105204, 39.94132435114361, 39.9444568898077, 39.9460593082689, 39.943956514005606, 39.9433784003814, 39.9444007609688, 39.944550858963204, 39.9434195085844, 39.9436549605938, 39.9465006258679, 39.94420372696821, 39.9419237085647, 39.9434556417064, 39.945290400124996, 39.9435715281132, 39.9443497703493, 39.941824490631795, 39.940791818266895, 39.945297223736794, 39.94289530432339, 39.9432250585981, 39.9461534280688, 39.9422036598655, 39.942816751974895, 39.9410995860245, 39.940997671671795, 39.9435467222009, 39.941635834688, 39.9428415471354, 39.9437762760183, 39.94320229392221, 39.941477314134396, 39.9427679056027, 39.94333297429471, 39.944204491851295, 39.9437465265944, 39.9438374680866, 39.9451722775365, 39.942506945221794, 39.9446070190048, 39.9451249121917, 39.94239500613021, 39.9448046762956, 39.9425423742086, 39.9451310774725, 39.942502098622896, 39.944844454884795, 39.9401415841301, 39.9444844685105, 39.9440896128934, 39.9464876419233, 39.9439442566142, 39.944594781667206, 39.9420869288918, 39.9436836809808, 39.9438175774937, 39.942022801526, 39.941288226953795, 39.9464576660407, 39.9461515358412, 39.9431594600703, 39.944848862498, 39.943748694572704, 39.9463024050705, 39.943661667793606, 39.9461970120384], \"legendgroup\": \"\", \"lon\": [-75.17009743393821, -75.166112027818, -75.1634826347411, -75.16772651013079, -75.17186304554191, -75.16990506491759, -75.1729444762547, -75.17319847814409, -75.171839078194, -75.1702213350259, -75.16763679647809, -75.164444213202, -75.1658872318113, -75.1697176819241, -75.17342006944808, -75.1631265136534, -75.1660158465086, -75.1687239310986, -75.1714761846592, -75.1659134505965, -75.1733352170396, -75.1660811942322, -75.1701957610606, -75.1658314158863, -75.1686945255596, -75.1728366733244, -75.173465109093, -75.1676826974808, -75.16520814264109, -75.16610004474171, -75.16434362402241, -75.1704582159004, -75.16598882295379, -75.1731247936959, -75.1717829606576, -75.1651744705443, -75.1692690160745, -75.167292004049, -75.17057559537159, -75.1654692349308, -75.17432751996729, -75.16521871683041, -75.172469555266, -75.1683484207589, -75.16542226756721, -75.16606607219279, -75.1691382947034, -75.1697197517855, -75.16805763026629, -75.17349136452249, -75.1739246337558, -75.1656987920779, -75.17334401437179, -75.16698384802551, -75.16633814103079, -75.1724048958403, -75.1690935922351, -75.1675915045988, -75.1700420121554, -75.165187430855, -75.1726887192804, -75.1670642191653, -75.17236717743879, -75.1661079591894, -75.17351922103, -75.1708119285717, -75.1653039447095, -75.16924544189791, -75.1677789731532, -75.1642446920835, -75.1738445501845, -75.1660475139983, -75.1684714180401, -75.1742903501634, -75.168988249338, -75.1656639391241, -75.16892305795609, -75.169509856798, -75.1686087455176, -75.16676819629599, -75.1707266782441, -75.1702620311824, -75.1659134505965, -75.1713432961324, -75.164592019347, -75.1734718925075, -75.17309357605109, -75.1640964069228, -75.17100452670071, -75.1711059652417, -75.16465537452521, -75.17497140117291, -75.17491063549599, -75.1731366058802, -75.1702631764934, -75.170215934446, -75.1632587093028, -75.1668367472907, -75.1686289732543, -75.1706723492525, -75.16931524998641, -75.1663352128476, -75.170709592618, -75.170069336886, -75.16344008949359, -75.1732184576001, -75.17488100140841, -75.1662974724285, -75.1678505385142, -75.1659527660201, -75.1649819135331, -75.1724210857418, -75.1737944865256, -75.1705086447194, -75.1693904798238, -75.166112027818, -75.1659139955285, -75.1657185711356, -75.1665908034466, -75.170012044364, -75.1735997406786, -75.16970458289909, -75.1738945843899, -75.16838715401191, -75.1686217008828, -75.167929760098, -75.1699228097545, -75.1656210842932, -75.16847428551429, -75.1675403586672, -75.1746893605221, -75.1641300766696, -75.1725217886565, -75.16517154773909, -75.1730247032437, -75.17357606820579, -75.1734077919442, -75.1704082558376, -75.16533266852909, -75.1707042066434, -75.16516185704529, -75.1661548956461, -75.1731516153292, -75.17371130092859, -75.165487010455, -75.170467929968, -75.1737663401247, -75.1715777329037, -75.1659299189492, -75.1739973221575], \"marker\": {\"color\": \"#636efa\"}, \"mode\": \"markers\", \"name\": \"\", \"showlegend\": false, \"subplot\": \"mapbox\", \"type\": \"scattermapbox\"}],\n",
              "                        {\"legend\": {\"tracegroupgap\": 0}, \"mapbox\": {\"accesstoken\": \"pk.eyJ1Ijoic2hha2Fzb20iLCJhIjoiY2plMWg1NGFpMXZ5NjJxbjhlM2ttN3AwbiJ9.RtGYHmreKiyBfHuElgYq_w\", \"center\": {\"lat\": 39.94350971163247, \"lon\": -75.16915013406168}, \"domain\": {\"x\": [0.0, 1.0], \"y\": [0.0, 1.0]}, \"zoom\": 14.5}, \"margin\": {\"t\": 60}, \"template\": {\"data\": {\"bar\": [{\"error_x\": {\"color\": \"#2a3f5f\"}, \"error_y\": {\"color\": \"#2a3f5f\"}, \"marker\": {\"line\": {\"color\": \"#E5ECF6\", \"width\": 0.5}}, \"type\": \"bar\"}], \"barpolar\": [{\"marker\": {\"line\": {\"color\": \"#E5ECF6\", \"width\": 0.5}}, \"type\": \"barpolar\"}], \"carpet\": [{\"aaxis\": {\"endlinecolor\": \"#2a3f5f\", \"gridcolor\": \"white\", \"linecolor\": \"white\", \"minorgridcolor\": \"white\", \"startlinecolor\": \"#2a3f5f\"}, \"baxis\": {\"endlinecolor\": \"#2a3f5f\", \"gridcolor\": \"white\", \"linecolor\": \"white\", \"minorgridcolor\": \"white\", \"startlinecolor\": \"#2a3f5f\"}, \"type\": \"carpet\"}], \"choropleth\": [{\"colorbar\": {\"outlinewidth\": 0, \"ticks\": \"\"}, \"type\": \"choropleth\"}], \"contour\": [{\"colorbar\": {\"outlinewidth\": 0, \"ticks\": \"\"}, \"colorscale\": [[0.0, \"#0d0887\"], [0.1111111111111111, \"#46039f\"], [0.2222222222222222, \"#7201a8\"], [0.3333333333333333, \"#9c179e\"], [0.4444444444444444, \"#bd3786\"], [0.5555555555555556, \"#d8576b\"], [0.6666666666666666, \"#ed7953\"], [0.7777777777777778, \"#fb9f3a\"], [0.8888888888888888, \"#fdca26\"], [1.0, \"#f0f921\"]], \"type\": \"contour\"}], \"contourcarpet\": [{\"colorbar\": {\"outlinewidth\": 0, \"ticks\": \"\"}, \"type\": \"contourcarpet\"}], \"heatmap\": [{\"colorbar\": {\"outlinewidth\": 0, \"ticks\": \"\"}, \"colorscale\": [[0.0, \"#0d0887\"], [0.1111111111111111, \"#46039f\"], [0.2222222222222222, \"#7201a8\"], [0.3333333333333333, \"#9c179e\"], [0.4444444444444444, \"#bd3786\"], [0.5555555555555556, \"#d8576b\"], [0.6666666666666666, \"#ed7953\"], [0.7777777777777778, \"#fb9f3a\"], [0.8888888888888888, \"#fdca26\"], [1.0, \"#f0f921\"]], \"type\": \"heatmap\"}], \"heatmapgl\": [{\"colorbar\": {\"outlinewidth\": 0, \"ticks\": \"\"}, \"colorscale\": [[0.0, \"#0d0887\"], [0.1111111111111111, \"#46039f\"], [0.2222222222222222, \"#7201a8\"], [0.3333333333333333, \"#9c179e\"], [0.4444444444444444, \"#bd3786\"], [0.5555555555555556, \"#d8576b\"], [0.6666666666666666, \"#ed7953\"], [0.7777777777777778, \"#fb9f3a\"], [0.8888888888888888, \"#fdca26\"], [1.0, \"#f0f921\"]], \"type\": \"heatmapgl\"}], \"histogram\": [{\"marker\": {\"colorbar\": {\"outlinewidth\": 0, \"ticks\": \"\"}}, \"type\": \"histogram\"}], \"histogram2d\": [{\"colorbar\": {\"outlinewidth\": 0, \"ticks\": \"\"}, \"colorscale\": [[0.0, \"#0d0887\"], [0.1111111111111111, \"#46039f\"], [0.2222222222222222, \"#7201a8\"], [0.3333333333333333, \"#9c179e\"], [0.4444444444444444, \"#bd3786\"], [0.5555555555555556, \"#d8576b\"], [0.6666666666666666, \"#ed7953\"], [0.7777777777777778, \"#fb9f3a\"], [0.8888888888888888, \"#fdca26\"], [1.0, \"#f0f921\"]], \"type\": \"histogram2d\"}], \"histogram2dcontour\": [{\"colorbar\": {\"outlinewidth\": 0, \"ticks\": \"\"}, \"colorscale\": [[0.0, \"#0d0887\"], [0.1111111111111111, \"#46039f\"], [0.2222222222222222, \"#7201a8\"], [0.3333333333333333, \"#9c179e\"], [0.4444444444444444, \"#bd3786\"], [0.5555555555555556, \"#d8576b\"], [0.6666666666666666, \"#ed7953\"], [0.7777777777777778, \"#fb9f3a\"], [0.8888888888888888, \"#fdca26\"], [1.0, \"#f0f921\"]], \"type\": \"histogram2dcontour\"}], \"mesh3d\": [{\"colorbar\": {\"outlinewidth\": 0, \"ticks\": \"\"}, \"type\": \"mesh3d\"}], \"parcoords\": [{\"line\": {\"colorbar\": {\"outlinewidth\": 0, \"ticks\": \"\"}}, \"type\": \"parcoords\"}], \"pie\": [{\"automargin\": true, \"type\": \"pie\"}], \"scatter\": [{\"marker\": {\"colorbar\": {\"outlinewidth\": 0, \"ticks\": \"\"}}, \"type\": \"scatter\"}], \"scatter3d\": [{\"line\": {\"colorbar\": {\"outlinewidth\": 0, \"ticks\": \"\"}}, \"marker\": {\"colorbar\": {\"outlinewidth\": 0, \"ticks\": \"\"}}, \"type\": \"scatter3d\"}], \"scattercarpet\": [{\"marker\": {\"colorbar\": {\"outlinewidth\": 0, \"ticks\": \"\"}}, \"type\": \"scattercarpet\"}], \"scattergeo\": [{\"marker\": {\"colorbar\": {\"outlinewidth\": 0, \"ticks\": \"\"}}, \"type\": \"scattergeo\"}], \"scattergl\": [{\"marker\": {\"colorbar\": {\"outlinewidth\": 0, \"ticks\": \"\"}}, \"type\": \"scattergl\"}], \"scattermapbox\": [{\"marker\": {\"colorbar\": {\"outlinewidth\": 0, \"ticks\": \"\"}}, \"type\": \"scattermapbox\"}], \"scatterpolar\": [{\"marker\": {\"colorbar\": {\"outlinewidth\": 0, \"ticks\": \"\"}}, \"type\": \"scatterpolar\"}], \"scatterpolargl\": [{\"marker\": {\"colorbar\": {\"outlinewidth\": 0, \"ticks\": \"\"}}, \"type\": \"scatterpolargl\"}], \"scatterternary\": [{\"marker\": {\"colorbar\": {\"outlinewidth\": 0, \"ticks\": \"\"}}, \"type\": \"scatterternary\"}], \"surface\": [{\"colorbar\": {\"outlinewidth\": 0, \"ticks\": \"\"}, \"colorscale\": [[0.0, \"#0d0887\"], [0.1111111111111111, \"#46039f\"], [0.2222222222222222, \"#7201a8\"], [0.3333333333333333, \"#9c179e\"], [0.4444444444444444, \"#bd3786\"], [0.5555555555555556, \"#d8576b\"], [0.6666666666666666, \"#ed7953\"], [0.7777777777777778, \"#fb9f3a\"], [0.8888888888888888, \"#fdca26\"], [1.0, \"#f0f921\"]], \"type\": \"surface\"}], \"table\": [{\"cells\": {\"fill\": {\"color\": \"#EBF0F8\"}, \"line\": {\"color\": \"white\"}}, \"header\": {\"fill\": {\"color\": \"#C8D4E3\"}, \"line\": {\"color\": \"white\"}}, \"type\": \"table\"}]}, \"layout\": {\"annotationdefaults\": {\"arrowcolor\": \"#2a3f5f\", \"arrowhead\": 0, \"arrowwidth\": 1}, \"coloraxis\": {\"colorbar\": {\"outlinewidth\": 0, \"ticks\": \"\"}}, \"colorscale\": {\"diverging\": [[0, \"#8e0152\"], [0.1, \"#c51b7d\"], [0.2, \"#de77ae\"], [0.3, \"#f1b6da\"], [0.4, \"#fde0ef\"], [0.5, \"#f7f7f7\"], [0.6, \"#e6f5d0\"], [0.7, \"#b8e186\"], [0.8, \"#7fbc41\"], [0.9, \"#4d9221\"], [1, \"#276419\"]], \"sequential\": [[0.0, \"#0d0887\"], [0.1111111111111111, \"#46039f\"], [0.2222222222222222, \"#7201a8\"], [0.3333333333333333, \"#9c179e\"], [0.4444444444444444, \"#bd3786\"], [0.5555555555555556, \"#d8576b\"], [0.6666666666666666, \"#ed7953\"], [0.7777777777777778, \"#fb9f3a\"], [0.8888888888888888, \"#fdca26\"], [1.0, \"#f0f921\"]], \"sequentialminus\": [[0.0, \"#0d0887\"], [0.1111111111111111, \"#46039f\"], [0.2222222222222222, \"#7201a8\"], [0.3333333333333333, \"#9c179e\"], [0.4444444444444444, \"#bd3786\"], [0.5555555555555556, \"#d8576b\"], [0.6666666666666666, \"#ed7953\"], [0.7777777777777778, \"#fb9f3a\"], [0.8888888888888888, \"#fdca26\"], [1.0, \"#f0f921\"]]}, \"colorway\": [\"#636efa\", \"#EF553B\", \"#00cc96\", \"#ab63fa\", \"#FFA15A\", \"#19d3f3\", \"#FF6692\", \"#B6E880\", \"#FF97FF\", \"#FECB52\"], \"font\": {\"color\": \"#2a3f5f\"}, \"geo\": {\"bgcolor\": \"white\", \"lakecolor\": \"white\", \"landcolor\": \"#E5ECF6\", \"showlakes\": true, \"showland\": true, \"subunitcolor\": \"white\"}, \"hoverlabel\": {\"align\": \"left\"}, \"hovermode\": \"closest\", \"mapbox\": {\"style\": \"light\"}, \"paper_bgcolor\": \"white\", \"plot_bgcolor\": \"#E5ECF6\", \"polar\": {\"angularaxis\": {\"gridcolor\": \"white\", \"linecolor\": \"white\", \"ticks\": \"\"}, \"bgcolor\": \"#E5ECF6\", \"radialaxis\": {\"gridcolor\": \"white\", \"linecolor\": \"white\", \"ticks\": \"\"}}, \"scene\": {\"xaxis\": {\"backgroundcolor\": \"#E5ECF6\", \"gridcolor\": \"white\", \"gridwidth\": 2, \"linecolor\": \"white\", \"showbackground\": true, \"ticks\": \"\", \"zerolinecolor\": \"white\"}, \"yaxis\": {\"backgroundcolor\": \"#E5ECF6\", \"gridcolor\": \"white\", \"gridwidth\": 2, \"linecolor\": \"white\", \"showbackground\": true, \"ticks\": \"\", \"zerolinecolor\": \"white\"}, \"zaxis\": {\"backgroundcolor\": \"#E5ECF6\", \"gridcolor\": \"white\", \"gridwidth\": 2, \"linecolor\": \"white\", \"showbackground\": true, \"ticks\": \"\", \"zerolinecolor\": \"white\"}}, \"shapedefaults\": {\"line\": {\"color\": \"#2a3f5f\"}}, \"ternary\": {\"aaxis\": {\"gridcolor\": \"white\", \"linecolor\": \"white\", \"ticks\": \"\"}, \"baxis\": {\"gridcolor\": \"white\", \"linecolor\": \"white\", \"ticks\": \"\"}, \"bgcolor\": \"#E5ECF6\", \"caxis\": {\"gridcolor\": \"white\", \"linecolor\": \"white\", \"ticks\": \"\"}}, \"title\": {\"x\": 0.05}, \"xaxis\": {\"automargin\": true, \"gridcolor\": \"white\", \"linecolor\": \"white\", \"ticks\": \"\", \"title\": {\"standoff\": 15}, \"zerolinecolor\": \"white\", \"zerolinewidth\": 2}, \"yaxis\": {\"automargin\": true, \"gridcolor\": \"white\", \"linecolor\": \"white\", \"ticks\": \"\", \"title\": {\"standoff\": 15}, \"zerolinecolor\": \"white\", \"zerolinewidth\": 2}}}},\n",
              "                        {\"responsive\": true}\n",
              "                    ).then(function(){\n",
              "                            \n",
              "var gd = document.getElementById('be4eaf1d-0898-4d55-8523-4ad350a5ba17');\n",
              "var x = new MutationObserver(function (mutations, observer) {{\n",
              "        var display = window.getComputedStyle(gd).display;\n",
              "        if (!display || display === 'none') {{\n",
              "            console.log([gd, 'removed!']);\n",
              "            Plotly.purge(gd);\n",
              "            observer.disconnect();\n",
              "        }}\n",
              "}});\n",
              "\n",
              "// Listen for the removal of the full notebook cells\n",
              "var notebookContainer = gd.closest('#notebook-container');\n",
              "if (notebookContainer) {{\n",
              "    x.observe(notebookContainer, {childList: true});\n",
              "}}\n",
              "\n",
              "// Listen for the clearing of the current output cell\n",
              "var outputEl = gd.closest('.output');\n",
              "if (outputEl) {{\n",
              "    x.observe(outputEl, {childList: true});\n",
              "}}\n",
              "\n",
              "                        })\n",
              "                };\n",
              "                \n",
              "            </script>\n",
              "        </div>\n",
              "</body>\n",
              "</html>"
            ]
          },
          "metadata": {}
        },
        {
          "output_type": "stream",
          "name": "stdout",
          "text": [
            "time: 1.27 s (started: 2022-01-09 20:30:51 +00:00)\n"
          ]
        }
      ]
    },
    {
      "cell_type": "markdown",
      "metadata": {
        "id": "3yuyV93kireL"
      },
      "source": [
        "O mapa mostra um subconjunto de postes de rua Phillidelphia. Agora, precisamos construir a coluna de coordenadas das colunas X e Y. Podemos fazer isso simplesmente mapeando essas duas colunas (X e Y) como strings e, em seguida, concatená-las com uma vírgula."
      ]
    },
    {
      "cell_type": "code",
      "metadata": {
        "colab": {
          "base_uri": "https://localhost:8080/",
          "height": 35
        },
        "id": "Ic55rhgEiwm-",
        "outputId": "74d84241-8c1f-41b3-efed-df690ff34d7f"
      },
      "source": [
        "df[\"geom\"] = df[\"Y\"].map(str) + ',' + df['X'].map(str)\n",
        "df[\"geom\"][0]"
      ],
      "execution_count": 15,
      "outputs": [
        {
          "output_type": "execute_result",
          "data": {
            "application/vnd.google.colaboratory.intrinsic+json": {
              "type": "string"
            },
            "text/plain": [
              "'39.9427660880249,-75.17009743393821'"
            ]
          },
          "metadata": {},
          "execution_count": 15
        },
        {
          "output_type": "stream",
          "name": "stdout",
          "text": [
            "time: 27.9 ms (started: 2022-01-09 20:30:59 +00:00)\n"
          ]
        }
      ]
    },
    {
      "cell_type": "markdown",
      "metadata": {
        "id": "EYCVLS51i-9y"
      },
      "source": [
        "Aqui está como a primeira linha da coluna geom que criamos acima."
      ]
    },
    {
      "cell_type": "markdown",
      "metadata": {
        "id": "N7m3Sj7WjH-O"
      },
      "source": [
        "Criamos um localizador de provedor de serviço com o tempo limite de passagem de tempo de 10 minutos, pois temos muitas linhas. Isso evitará erros de tempo limite que você possa encontrar durante o processo."
      ]
    },
    {
      "cell_type": "code",
      "metadata": {
        "id": "fnVkJYbNjEbY",
        "colab": {
          "base_uri": "https://localhost:8080/"
        },
        "outputId": "8ba30547-2e6e-4c9a-a79c-e0b257f92873"
      },
      "source": [
        "#locator = Nominatim(user_agent=\"myGeocoder\", timeout=10)\n",
        "locator = Nominatim(user_agent=\"my-application\", timeout=10)\n",
        "rgeocode = RateLimiter(locator.reverse, min_delay_seconds=0.001)"
      ],
      "execution_count": 16,
      "outputs": [
        {
          "output_type": "stream",
          "name": "stdout",
          "text": [
            "time: 3.21 ms (started: 2022-01-09 20:31:06 +00:00)\n"
          ]
        }
      ]
    },
    {
      "cell_type": "code",
      "metadata": {
        "colab": {
          "base_uri": "https://localhost:8080/"
        },
        "id": "NLbvx37IRCwq",
        "outputId": "375e2c6e-a70f-45c6-fa0a-6858e700a109"
      },
      "source": [
        "rgeocode"
      ],
      "execution_count": 17,
      "outputs": [
        {
          "output_type": "execute_result",
          "data": {
            "text/plain": [
              "<geopy.extra.rate_limiter.RateLimiter at 0x7f72eae22290>"
            ]
          },
          "metadata": {},
          "execution_count": 17
        },
        {
          "output_type": "stream",
          "name": "stdout",
          "text": [
            "time: 4.18 ms (started: 2022-01-09 20:31:09 +00:00)\n"
          ]
        }
      ]
    },
    {
      "cell_type": "markdown",
      "metadata": {
        "id": "Q5R6oGjjjS_Q"
      },
      "source": [
        "Agora, podemos reverter o geocode usando a aplicação do rgeocode de geocodificação reversa que criamos acima. Para obter uma boa barra de progresso, estamos usando aqui a biblioteca tqdm."
      ]
    },
    {
      "cell_type": "code",
      "metadata": {
        "id": "hfccmomejVSm",
        "colab": {
          "base_uri": "https://localhost:8080/",
          "height": 98,
          "referenced_widgets": [
            "af53627c872f491da130d19f81817a85",
            "93ac7c5cc20d45f58e7198875b127cfd",
            "dd64d47ee0f347d58e9315a2e41dbc52",
            "374110f56c734371a624d3f369ca56db",
            "e9df94343428489b80c98052a3d5f0a0",
            "47a0606020e24fecbc667eb684db2b70",
            "a4241ea750b14f859b2a9a3fc0182008",
            "7971cfde7fce48dc92305a2b276f6af6",
            "5efed4cc0c2042598e76e606f66ef06a",
            "dc8e8270de824328afc8495eef199335",
            "74aa8063259d4ef492dc10d74eaf4bbc",
            "2605ded766374fd19d6b64077d43b1cd",
            "c0311349e981452083f0b2889c80c1bf",
            "0594ac3d8ac54269a97fa62bb807ddff",
            "7c3c96dee960472696fd10a8d95c319a",
            "da917eda8cfc4a52a18954abb9a75cb3",
            "3dc93d9605d54ae790aed4c5a8597c89",
            "a399c5e7734c44ca854b851c1c3dd7da",
            "2fd9a56e4df74b7eaa121352a6faccaf",
            "c3ea16c601ee4eed82e88f747885e776",
            "de920e5a8e4a4291b013831dafe3bf6c",
            "1597e26852734325a6faa1a95c32a83e"
          ]
        },
        "outputId": "b34c1de7-906f-4852-c4bf-b3db699848fa"
      },
      "source": [
        "#tqdm.pandas()\n",
        "tqdm_notebook().pandas()\n",
        "df['address'] = df['geom'].progress_apply(rgeocode)"
      ],
      "execution_count": 18,
      "outputs": [
        {
          "output_type": "display_data",
          "data": {
            "application/vnd.jupyter.widget-view+json": {
              "model_id": "af53627c872f491da130d19f81817a85",
              "version_minor": 0,
              "version_major": 2
            },
            "text/plain": [
              "0it [00:00, ?it/s]"
            ]
          },
          "metadata": {}
        },
        {
          "output_type": "display_data",
          "data": {
            "application/vnd.jupyter.widget-view+json": {
              "model_id": "2605ded766374fd19d6b64077d43b1cd",
              "version_minor": 0,
              "version_major": 2
            },
            "text/plain": [
              "  0%|          | 0/150 [00:00<?, ?it/s]"
            ]
          },
          "metadata": {}
        },
        {
          "output_type": "stream",
          "name": "stdout",
          "text": [
            "time: 1min 14s (started: 2022-01-09 20:31:27 +00:00)\n"
          ]
        }
      ]
    },
    {
      "cell_type": "code",
      "metadata": {
        "id": "AfRcAlkHw0d8",
        "colab": {
          "base_uri": "https://localhost:8080/",
          "height": 268
        },
        "outputId": "788200b8-5169-4b1d-f545-0bb4d93b96e5"
      },
      "source": [
        "df.head()"
      ],
      "execution_count": 19,
      "outputs": [
        {
          "output_type": "execute_result",
          "data": {
            "text/html": [
              "\n",
              "  <div id=\"df-0810e8f6-d4d0-4c3a-98c7-59bef348bc6a\">\n",
              "    <div class=\"colab-df-container\">\n",
              "      <div>\n",
              "<style scoped>\n",
              "    .dataframe tbody tr th:only-of-type {\n",
              "        vertical-align: middle;\n",
              "    }\n",
              "\n",
              "    .dataframe tbody tr th {\n",
              "        vertical-align: top;\n",
              "    }\n",
              "\n",
              "    .dataframe thead th {\n",
              "        text-align: right;\n",
              "    }\n",
              "</style>\n",
              "<table border=\"1\" class=\"dataframe\">\n",
              "  <thead>\n",
              "    <tr style=\"text-align: right;\">\n",
              "      <th></th>\n",
              "      <th>X</th>\n",
              "      <th>Y</th>\n",
              "      <th>POLE_NUM</th>\n",
              "      <th>TYPE</th>\n",
              "      <th>HEIGHT</th>\n",
              "      <th>POLE_DATE</th>\n",
              "      <th>OWNER</th>\n",
              "      <th>geom</th>\n",
              "      <th>address</th>\n",
              "    </tr>\n",
              "  </thead>\n",
              "  <tbody>\n",
              "    <tr>\n",
              "      <th>0</th>\n",
              "      <td>-75.170097</td>\n",
              "      <td>39.942766</td>\n",
              "      <td>214423</td>\n",
              "      <td>WP</td>\n",
              "      <td>NaN</td>\n",
              "      <td>1997-06-09T00:00:00.000Z</td>\n",
              "      <td>PECO</td>\n",
              "      <td>39.9427660880249,-75.17009743393821</td>\n",
              "      <td>(723, South Chadwick Street, South Philadelphi...</td>\n",
              "    </tr>\n",
              "    <tr>\n",
              "      <th>1</th>\n",
              "      <td>-75.166112</td>\n",
              "      <td>39.941477</td>\n",
              "      <td>215645</td>\n",
              "      <td>AAPT</td>\n",
              "      <td>25.0</td>\n",
              "      <td>1997-06-10T00:00:00.000Z</td>\n",
              "      <td>Streets</td>\n",
              "      <td>39.941477314134396,-75.166112027818</td>\n",
              "      <td>(Tindley Temple United Methodist Church, 750, ...</td>\n",
              "    </tr>\n",
              "    <tr>\n",
              "      <th>2</th>\n",
              "      <td>-75.163483</td>\n",
              "      <td>39.943068</td>\n",
              "      <td>215926</td>\n",
              "      <td>WP</td>\n",
              "      <td>NaN</td>\n",
              "      <td>1997-06-04T00:00:00.000Z</td>\n",
              "      <td>PECO</td>\n",
              "      <td>39.9430681055253,-75.1634826347411</td>\n",
              "      <td>(1302, South 13th Street, Martin Luther King P...</td>\n",
              "    </tr>\n",
              "    <tr>\n",
              "      <th>3</th>\n",
              "      <td>-75.167727</td>\n",
              "      <td>39.944528</td>\n",
              "      <td>214515</td>\n",
              "      <td>WP</td>\n",
              "      <td>25.0</td>\n",
              "      <td>1997-06-09T00:00:00.000Z</td>\n",
              "      <td>Streets</td>\n",
              "      <td>39.9445279530865,-75.16772651013079</td>\n",
              "      <td>(PowerBack Rehabilitation, Naudain Street, Rit...</td>\n",
              "    </tr>\n",
              "    <tr>\n",
              "      <th>4</th>\n",
              "      <td>-75.171863</td>\n",
              "      <td>39.941486</td>\n",
              "      <td>214380</td>\n",
              "      <td>WP</td>\n",
              "      <td>25.0</td>\n",
              "      <td>1997-06-09T00:00:00.000Z</td>\n",
              "      <td>Streets</td>\n",
              "      <td>39.9414861490123,-75.17186304554191</td>\n",
              "      <td>(Marian Anderson Community Center, Catharine S...</td>\n",
              "    </tr>\n",
              "  </tbody>\n",
              "</table>\n",
              "</div>\n",
              "      <button class=\"colab-df-convert\" onclick=\"convertToInteractive('df-0810e8f6-d4d0-4c3a-98c7-59bef348bc6a')\"\n",
              "              title=\"Convert this dataframe to an interactive table.\"\n",
              "              style=\"display:none;\">\n",
              "        \n",
              "  <svg xmlns=\"http://www.w3.org/2000/svg\" height=\"24px\"viewBox=\"0 0 24 24\"\n",
              "       width=\"24px\">\n",
              "    <path d=\"M0 0h24v24H0V0z\" fill=\"none\"/>\n",
              "    <path d=\"M18.56 5.44l.94 2.06.94-2.06 2.06-.94-2.06-.94-.94-2.06-.94 2.06-2.06.94zm-11 1L8.5 8.5l.94-2.06 2.06-.94-2.06-.94L8.5 2.5l-.94 2.06-2.06.94zm10 10l.94 2.06.94-2.06 2.06-.94-2.06-.94-.94-2.06-.94 2.06-2.06.94z\"/><path d=\"M17.41 7.96l-1.37-1.37c-.4-.4-.92-.59-1.43-.59-.52 0-1.04.2-1.43.59L10.3 9.45l-7.72 7.72c-.78.78-.78 2.05 0 2.83L4 21.41c.39.39.9.59 1.41.59.51 0 1.02-.2 1.41-.59l7.78-7.78 2.81-2.81c.8-.78.8-2.07 0-2.86zM5.41 20L4 18.59l7.72-7.72 1.47 1.35L5.41 20z\"/>\n",
              "  </svg>\n",
              "      </button>\n",
              "      \n",
              "  <style>\n",
              "    .colab-df-container {\n",
              "      display:flex;\n",
              "      flex-wrap:wrap;\n",
              "      gap: 12px;\n",
              "    }\n",
              "\n",
              "    .colab-df-convert {\n",
              "      background-color: #E8F0FE;\n",
              "      border: none;\n",
              "      border-radius: 50%;\n",
              "      cursor: pointer;\n",
              "      display: none;\n",
              "      fill: #1967D2;\n",
              "      height: 32px;\n",
              "      padding: 0 0 0 0;\n",
              "      width: 32px;\n",
              "    }\n",
              "\n",
              "    .colab-df-convert:hover {\n",
              "      background-color: #E2EBFA;\n",
              "      box-shadow: 0px 1px 2px rgba(60, 64, 67, 0.3), 0px 1px 3px 1px rgba(60, 64, 67, 0.15);\n",
              "      fill: #174EA6;\n",
              "    }\n",
              "\n",
              "    [theme=dark] .colab-df-convert {\n",
              "      background-color: #3B4455;\n",
              "      fill: #D2E3FC;\n",
              "    }\n",
              "\n",
              "    [theme=dark] .colab-df-convert:hover {\n",
              "      background-color: #434B5C;\n",
              "      box-shadow: 0px 1px 3px 1px rgba(0, 0, 0, 0.15);\n",
              "      filter: drop-shadow(0px 1px 2px rgba(0, 0, 0, 0.3));\n",
              "      fill: #FFFFFF;\n",
              "    }\n",
              "  </style>\n",
              "\n",
              "      <script>\n",
              "        const buttonEl =\n",
              "          document.querySelector('#df-0810e8f6-d4d0-4c3a-98c7-59bef348bc6a button.colab-df-convert');\n",
              "        buttonEl.style.display =\n",
              "          google.colab.kernel.accessAllowed ? 'block' : 'none';\n",
              "\n",
              "        async function convertToInteractive(key) {\n",
              "          const element = document.querySelector('#df-0810e8f6-d4d0-4c3a-98c7-59bef348bc6a');\n",
              "          const dataTable =\n",
              "            await google.colab.kernel.invokeFunction('convertToInteractive',\n",
              "                                                     [key], {});\n",
              "          if (!dataTable) return;\n",
              "\n",
              "          const docLinkHtml = 'Like what you see? Visit the ' +\n",
              "            '<a target=\"_blank\" href=https://colab.research.google.com/notebooks/data_table.ipynb>data table notebook</a>'\n",
              "            + ' to learn more about interactive tables.';\n",
              "          element.innerHTML = '';\n",
              "          dataTable['output_type'] = 'display_data';\n",
              "          await google.colab.output.renderOutput(dataTable, element);\n",
              "          const docLink = document.createElement('div');\n",
              "          docLink.innerHTML = docLinkHtml;\n",
              "          element.appendChild(docLink);\n",
              "        }\n",
              "      </script>\n",
              "    </div>\n",
              "  </div>\n",
              "  "
            ],
            "text/plain": [
              "           X  ...                                            address\n",
              "0 -75.170097  ...  (723, South Chadwick Street, South Philadelphi...\n",
              "1 -75.166112  ...  (Tindley Temple United Methodist Church, 750, ...\n",
              "2 -75.163483  ...  (1302, South 13th Street, Martin Luther King P...\n",
              "3 -75.167727  ...  (PowerBack Rehabilitation, Naudain Street, Rit...\n",
              "4 -75.171863  ...  (Marian Anderson Community Center, Catharine S...\n",
              "\n",
              "[5 rows x 9 columns]"
            ]
          },
          "metadata": {},
          "execution_count": 19
        },
        {
          "output_type": "stream",
          "name": "stdout",
          "text": [
            "time: 36.1 ms (started: 2022-01-09 20:35:48 +00:00)\n"
          ]
        }
      ]
    },
    {
      "cell_type": "markdown",
      "metadata": {
        "id": "i5qXUeu1mdML"
      },
      "source": [
        "Pode demorar um pouco, dependendo do número de linhas no conjunto de dados. Mas quando o processo terminar, você terá um recurso adicional no conjunto de dados em que cada ponto tem um endereço conforme mostrado abaixo.\n",
        "Os dados agora têm atributos muito mais perspicazes associados a cada ponto, incluindo endereço, código postal, edifícios, etc. ...\n",
        "Demorou 1 minuto e 45 segundos para realizar a geocodificação reversa com apenas 150 pontos. O tempo de cálculo provavelmente não é uma boa opção, pois um aumento nos pontos de dados exigirá muito tempo de processamento. Se você tiver um grande conjunto de dados, pode tentar diminuir os segundos de atraso."
      ]
    },
    {
      "cell_type": "markdown",
      "metadata": {
        "id": "8SyZ3LBqmqSd"
      },
      "source": [
        "# Conclusão\n",
        "Neste artigo, exploramos como você pode reverter coordenadas de geocodificação para endereços. \n",
        "\n",
        "Você pode acessar o bloco de notas para este tutorial neste Google Colab Notebook."
      ]
    }
  ]
}